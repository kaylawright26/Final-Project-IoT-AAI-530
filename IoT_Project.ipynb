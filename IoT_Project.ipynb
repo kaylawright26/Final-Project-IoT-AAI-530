{
  "nbformat": 4,
  "nbformat_minor": 0,
  "metadata": {
    "colab": {
      "provenance": [],
      "include_colab_link": true
    },
    "kernelspec": {
      "name": "python3",
      "display_name": "Python 3"
    },
    "language_info": {
      "name": "python"
    },
    "accelerator": "GPU",
    "gpuClass": "standard"
  },
  "cells": [
    {
      "cell_type": "markdown",
      "metadata": {
        "id": "view-in-github",
        "colab_type": "text"
      },
      "source": [
        "<a href=\"https://colab.research.google.com/github/kaylawright26/Final-Project-IoT-AAI-530/blob/main/IoT_Project.ipynb\" target=\"_parent\"><img src=\"https://colab.research.google.com/assets/colab-badge.svg\" alt=\"Open In Colab\"/></a>"
      ]
    },
    {
      "cell_type": "markdown",
      "source": [
        "# IoT Final Team Project\n",
        "\n"
      ],
      "metadata": {
        "id": "yhzWA1i90RSj"
      }
    },
    {
      "cell_type": "markdown",
      "source": [
        "### Importing Libraries, Data, and Sanity Checks"
      ],
      "metadata": {
        "id": "c7XX_GwK0vi4"
      }
    },
    {
      "cell_type": "code",
      "execution_count": 1,
      "metadata": {
        "id": "dmtlNiuQ20wI"
      },
      "outputs": [],
      "source": [
        "# Importing necessary libraries\n",
        "import numpy as np                                                                               \n",
        "import pandas as pd \n",
        "from datetime import datetime\n",
        "import time\n",
        "import seaborn as sns\n",
        "import matplotlib.pyplot as plt\n",
        "import keras\n",
        "from sklearn import preprocessing\n",
        "from sklearn.metrics import confusion_matrix, recall_score, precision_score\n",
        "from sklearn.model_selection import train_test_split\n",
        "from keras.models import Sequential,load_model\n",
        "from keras.layers import Dense, Dropout, LSTM\n",
        "from keras.layers.core import Activation\n",
        "from keras.utils import pad_sequences\n",
        "import tensorflow as tf\n",
        "from sklearn.metrics import roc_curve\n",
        "from imblearn.over_sampling import SMOTE\n",
        "from imblearn.under_sampling import RandomUnderSampler\n",
        "from tensorflow.keras import optimizers"
      ]
    },
    {
      "cell_type": "code",
      "source": [
        "# Mounting google drive to import datasets\n",
        "from google.colab import drive\n",
        "drive.mount('/content/drive')"
      ],
      "metadata": {
        "colab": {
          "base_uri": "https://localhost:8080/"
        },
        "id": "lgZ584c_285T",
        "outputId": "0163dd3b-d3f4-49e2-db58-be316386a316"
      },
      "execution_count": 2,
      "outputs": [
        {
          "output_type": "stream",
          "name": "stdout",
          "text": [
            "Mounted at /content/drive\n"
          ]
        }
      ]
    },
    {
      "cell_type": "code",
      "source": [
        "# Loading dataset\n",
        "df = pd.read_csv('/content/drive/MyDrive/train_ML_IOT.csv')"
      ],
      "metadata": {
        "id": "ikfBVwo-3TOI"
      },
      "execution_count": 3,
      "outputs": []
    },
    {
      "cell_type": "code",
      "source": [
        "# Checking shape of training set\n",
        "df.shape"
      ],
      "metadata": {
        "colab": {
          "base_uri": "https://localhost:8080/"
        },
        "id": "fMMmXW5h3_bC",
        "outputId": "7844f100-758a-4033-9b89-75dc84d59d24"
      },
      "execution_count": 4,
      "outputs": [
        {
          "output_type": "execute_result",
          "data": {
            "text/plain": [
              "(48120, 4)"
            ]
          },
          "metadata": {},
          "execution_count": 4
        }
      ]
    },
    {
      "cell_type": "code",
      "source": [
        "# Checking count and datatypes\n",
        "df.info()"
      ],
      "metadata": {
        "colab": {
          "base_uri": "https://localhost:8080/"
        },
        "id": "f5zHPNJv4NpY",
        "outputId": "c5a54a0e-473b-49f5-b566-4ca77dd175ef"
      },
      "execution_count": 5,
      "outputs": [
        {
          "output_type": "stream",
          "name": "stdout",
          "text": [
            "<class 'pandas.core.frame.DataFrame'>\n",
            "RangeIndex: 48120 entries, 0 to 48119\n",
            "Data columns (total 4 columns):\n",
            " #   Column    Non-Null Count  Dtype \n",
            "---  ------    --------------  ----- \n",
            " 0   DateTime  48120 non-null  object\n",
            " 1   Junction  48120 non-null  int64 \n",
            " 2   Vehicles  48120 non-null  int64 \n",
            " 3   ID        48120 non-null  int64 \n",
            "dtypes: int64(3), object(1)\n",
            "memory usage: 1.5+ MB\n"
          ]
        }
      ]
    },
    {
      "cell_type": "code",
      "source": [
        "# Checking statistical information on this dataset\n",
        "df.describe()"
      ],
      "metadata": {
        "colab": {
          "base_uri": "https://localhost:8080/",
          "height": 300
        },
        "id": "jO3L0Vap3SAb",
        "outputId": "413bcf99-7a8b-4e77-8d00-4af6b7154914"
      },
      "execution_count": 6,
      "outputs": [
        {
          "output_type": "execute_result",
          "data": {
            "text/plain": [
              "           Junction      Vehicles            ID\n",
              "count  48120.000000  48120.000000  4.812000e+04\n",
              "mean       2.180549     22.791334  2.016330e+10\n",
              "std        0.966955     20.750063  5.944854e+06\n",
              "min        1.000000      1.000000  2.015110e+10\n",
              "25%        1.000000      9.000000  2.016042e+10\n",
              "50%        2.000000     15.000000  2.016093e+10\n",
              "75%        3.000000     29.000000  2.017023e+10\n",
              "max        4.000000    180.000000  2.017063e+10"
            ],
            "text/html": [
              "\n",
              "  <div id=\"df-0fc521da-dcce-4414-9c92-f59fdae248b1\">\n",
              "    <div class=\"colab-df-container\">\n",
              "      <div>\n",
              "<style scoped>\n",
              "    .dataframe tbody tr th:only-of-type {\n",
              "        vertical-align: middle;\n",
              "    }\n",
              "\n",
              "    .dataframe tbody tr th {\n",
              "        vertical-align: top;\n",
              "    }\n",
              "\n",
              "    .dataframe thead th {\n",
              "        text-align: right;\n",
              "    }\n",
              "</style>\n",
              "<table border=\"1\" class=\"dataframe\">\n",
              "  <thead>\n",
              "    <tr style=\"text-align: right;\">\n",
              "      <th></th>\n",
              "      <th>Junction</th>\n",
              "      <th>Vehicles</th>\n",
              "      <th>ID</th>\n",
              "    </tr>\n",
              "  </thead>\n",
              "  <tbody>\n",
              "    <tr>\n",
              "      <th>count</th>\n",
              "      <td>48120.000000</td>\n",
              "      <td>48120.000000</td>\n",
              "      <td>4.812000e+04</td>\n",
              "    </tr>\n",
              "    <tr>\n",
              "      <th>mean</th>\n",
              "      <td>2.180549</td>\n",
              "      <td>22.791334</td>\n",
              "      <td>2.016330e+10</td>\n",
              "    </tr>\n",
              "    <tr>\n",
              "      <th>std</th>\n",
              "      <td>0.966955</td>\n",
              "      <td>20.750063</td>\n",
              "      <td>5.944854e+06</td>\n",
              "    </tr>\n",
              "    <tr>\n",
              "      <th>min</th>\n",
              "      <td>1.000000</td>\n",
              "      <td>1.000000</td>\n",
              "      <td>2.015110e+10</td>\n",
              "    </tr>\n",
              "    <tr>\n",
              "      <th>25%</th>\n",
              "      <td>1.000000</td>\n",
              "      <td>9.000000</td>\n",
              "      <td>2.016042e+10</td>\n",
              "    </tr>\n",
              "    <tr>\n",
              "      <th>50%</th>\n",
              "      <td>2.000000</td>\n",
              "      <td>15.000000</td>\n",
              "      <td>2.016093e+10</td>\n",
              "    </tr>\n",
              "    <tr>\n",
              "      <th>75%</th>\n",
              "      <td>3.000000</td>\n",
              "      <td>29.000000</td>\n",
              "      <td>2.017023e+10</td>\n",
              "    </tr>\n",
              "    <tr>\n",
              "      <th>max</th>\n",
              "      <td>4.000000</td>\n",
              "      <td>180.000000</td>\n",
              "      <td>2.017063e+10</td>\n",
              "    </tr>\n",
              "  </tbody>\n",
              "</table>\n",
              "</div>\n",
              "      <button class=\"colab-df-convert\" onclick=\"convertToInteractive('df-0fc521da-dcce-4414-9c92-f59fdae248b1')\"\n",
              "              title=\"Convert this dataframe to an interactive table.\"\n",
              "              style=\"display:none;\">\n",
              "        \n",
              "  <svg xmlns=\"http://www.w3.org/2000/svg\" height=\"24px\"viewBox=\"0 0 24 24\"\n",
              "       width=\"24px\">\n",
              "    <path d=\"M0 0h24v24H0V0z\" fill=\"none\"/>\n",
              "    <path d=\"M18.56 5.44l.94 2.06.94-2.06 2.06-.94-2.06-.94-.94-2.06-.94 2.06-2.06.94zm-11 1L8.5 8.5l.94-2.06 2.06-.94-2.06-.94L8.5 2.5l-.94 2.06-2.06.94zm10 10l.94 2.06.94-2.06 2.06-.94-2.06-.94-.94-2.06-.94 2.06-2.06.94z\"/><path d=\"M17.41 7.96l-1.37-1.37c-.4-.4-.92-.59-1.43-.59-.52 0-1.04.2-1.43.59L10.3 9.45l-7.72 7.72c-.78.78-.78 2.05 0 2.83L4 21.41c.39.39.9.59 1.41.59.51 0 1.02-.2 1.41-.59l7.78-7.78 2.81-2.81c.8-.78.8-2.07 0-2.86zM5.41 20L4 18.59l7.72-7.72 1.47 1.35L5.41 20z\"/>\n",
              "  </svg>\n",
              "      </button>\n",
              "      \n",
              "  <style>\n",
              "    .colab-df-container {\n",
              "      display:flex;\n",
              "      flex-wrap:wrap;\n",
              "      gap: 12px;\n",
              "    }\n",
              "\n",
              "    .colab-df-convert {\n",
              "      background-color: #E8F0FE;\n",
              "      border: none;\n",
              "      border-radius: 50%;\n",
              "      cursor: pointer;\n",
              "      display: none;\n",
              "      fill: #1967D2;\n",
              "      height: 32px;\n",
              "      padding: 0 0 0 0;\n",
              "      width: 32px;\n",
              "    }\n",
              "\n",
              "    .colab-df-convert:hover {\n",
              "      background-color: #E2EBFA;\n",
              "      box-shadow: 0px 1px 2px rgba(60, 64, 67, 0.3), 0px 1px 3px 1px rgba(60, 64, 67, 0.15);\n",
              "      fill: #174EA6;\n",
              "    }\n",
              "\n",
              "    [theme=dark] .colab-df-convert {\n",
              "      background-color: #3B4455;\n",
              "      fill: #D2E3FC;\n",
              "    }\n",
              "\n",
              "    [theme=dark] .colab-df-convert:hover {\n",
              "      background-color: #434B5C;\n",
              "      box-shadow: 0px 1px 3px 1px rgba(0, 0, 0, 0.15);\n",
              "      filter: drop-shadow(0px 1px 2px rgba(0, 0, 0, 0.3));\n",
              "      fill: #FFFFFF;\n",
              "    }\n",
              "  </style>\n",
              "\n",
              "      <script>\n",
              "        const buttonEl =\n",
              "          document.querySelector('#df-0fc521da-dcce-4414-9c92-f59fdae248b1 button.colab-df-convert');\n",
              "        buttonEl.style.display =\n",
              "          google.colab.kernel.accessAllowed ? 'block' : 'none';\n",
              "\n",
              "        async function convertToInteractive(key) {\n",
              "          const element = document.querySelector('#df-0fc521da-dcce-4414-9c92-f59fdae248b1');\n",
              "          const dataTable =\n",
              "            await google.colab.kernel.invokeFunction('convertToInteractive',\n",
              "                                                     [key], {});\n",
              "          if (!dataTable) return;\n",
              "\n",
              "          const docLinkHtml = 'Like what you see? Visit the ' +\n",
              "            '<a target=\"_blank\" href=https://colab.research.google.com/notebooks/data_table.ipynb>data table notebook</a>'\n",
              "            + ' to learn more about interactive tables.';\n",
              "          element.innerHTML = '';\n",
              "          dataTable['output_type'] = 'display_data';\n",
              "          await google.colab.output.renderOutput(dataTable, element);\n",
              "          const docLink = document.createElement('div');\n",
              "          docLink.innerHTML = docLinkHtml;\n",
              "          element.appendChild(docLink);\n",
              "        }\n",
              "      </script>\n",
              "    </div>\n",
              "  </div>\n",
              "  "
            ]
          },
          "metadata": {},
          "execution_count": 6
        }
      ]
    },
    {
      "cell_type": "code",
      "source": [
        "# Checking to see the first 5 rows of the dataset\n",
        "df.head()"
      ],
      "metadata": {
        "colab": {
          "base_uri": "https://localhost:8080/",
          "height": 206
        },
        "id": "fiFiiQC26EzQ",
        "outputId": "c6d83069-3ce6-4c94-ca82-5848aae21b06"
      },
      "execution_count": 7,
      "outputs": [
        {
          "output_type": "execute_result",
          "data": {
            "text/plain": [
              "              DateTime  Junction  Vehicles           ID\n",
              "0  2015-11-01 00:00:00         1        15  20151101001\n",
              "1  2015-11-01 01:00:00         1        13  20151101011\n",
              "2  2015-11-01 02:00:00         1        10  20151101021\n",
              "3  2015-11-01 03:00:00         1         7  20151101031\n",
              "4  2015-11-01 04:00:00         1         9  20151101041"
            ],
            "text/html": [
              "\n",
              "  <div id=\"df-55e51935-c04b-4fe4-8930-4fd53ab941a0\">\n",
              "    <div class=\"colab-df-container\">\n",
              "      <div>\n",
              "<style scoped>\n",
              "    .dataframe tbody tr th:only-of-type {\n",
              "        vertical-align: middle;\n",
              "    }\n",
              "\n",
              "    .dataframe tbody tr th {\n",
              "        vertical-align: top;\n",
              "    }\n",
              "\n",
              "    .dataframe thead th {\n",
              "        text-align: right;\n",
              "    }\n",
              "</style>\n",
              "<table border=\"1\" class=\"dataframe\">\n",
              "  <thead>\n",
              "    <tr style=\"text-align: right;\">\n",
              "      <th></th>\n",
              "      <th>DateTime</th>\n",
              "      <th>Junction</th>\n",
              "      <th>Vehicles</th>\n",
              "      <th>ID</th>\n",
              "    </tr>\n",
              "  </thead>\n",
              "  <tbody>\n",
              "    <tr>\n",
              "      <th>0</th>\n",
              "      <td>2015-11-01 00:00:00</td>\n",
              "      <td>1</td>\n",
              "      <td>15</td>\n",
              "      <td>20151101001</td>\n",
              "    </tr>\n",
              "    <tr>\n",
              "      <th>1</th>\n",
              "      <td>2015-11-01 01:00:00</td>\n",
              "      <td>1</td>\n",
              "      <td>13</td>\n",
              "      <td>20151101011</td>\n",
              "    </tr>\n",
              "    <tr>\n",
              "      <th>2</th>\n",
              "      <td>2015-11-01 02:00:00</td>\n",
              "      <td>1</td>\n",
              "      <td>10</td>\n",
              "      <td>20151101021</td>\n",
              "    </tr>\n",
              "    <tr>\n",
              "      <th>3</th>\n",
              "      <td>2015-11-01 03:00:00</td>\n",
              "      <td>1</td>\n",
              "      <td>7</td>\n",
              "      <td>20151101031</td>\n",
              "    </tr>\n",
              "    <tr>\n",
              "      <th>4</th>\n",
              "      <td>2015-11-01 04:00:00</td>\n",
              "      <td>1</td>\n",
              "      <td>9</td>\n",
              "      <td>20151101041</td>\n",
              "    </tr>\n",
              "  </tbody>\n",
              "</table>\n",
              "</div>\n",
              "      <button class=\"colab-df-convert\" onclick=\"convertToInteractive('df-55e51935-c04b-4fe4-8930-4fd53ab941a0')\"\n",
              "              title=\"Convert this dataframe to an interactive table.\"\n",
              "              style=\"display:none;\">\n",
              "        \n",
              "  <svg xmlns=\"http://www.w3.org/2000/svg\" height=\"24px\"viewBox=\"0 0 24 24\"\n",
              "       width=\"24px\">\n",
              "    <path d=\"M0 0h24v24H0V0z\" fill=\"none\"/>\n",
              "    <path d=\"M18.56 5.44l.94 2.06.94-2.06 2.06-.94-2.06-.94-.94-2.06-.94 2.06-2.06.94zm-11 1L8.5 8.5l.94-2.06 2.06-.94-2.06-.94L8.5 2.5l-.94 2.06-2.06.94zm10 10l.94 2.06.94-2.06 2.06-.94-2.06-.94-.94-2.06-.94 2.06-2.06.94z\"/><path d=\"M17.41 7.96l-1.37-1.37c-.4-.4-.92-.59-1.43-.59-.52 0-1.04.2-1.43.59L10.3 9.45l-7.72 7.72c-.78.78-.78 2.05 0 2.83L4 21.41c.39.39.9.59 1.41.59.51 0 1.02-.2 1.41-.59l7.78-7.78 2.81-2.81c.8-.78.8-2.07 0-2.86zM5.41 20L4 18.59l7.72-7.72 1.47 1.35L5.41 20z\"/>\n",
              "  </svg>\n",
              "      </button>\n",
              "      \n",
              "  <style>\n",
              "    .colab-df-container {\n",
              "      display:flex;\n",
              "      flex-wrap:wrap;\n",
              "      gap: 12px;\n",
              "    }\n",
              "\n",
              "    .colab-df-convert {\n",
              "      background-color: #E8F0FE;\n",
              "      border: none;\n",
              "      border-radius: 50%;\n",
              "      cursor: pointer;\n",
              "      display: none;\n",
              "      fill: #1967D2;\n",
              "      height: 32px;\n",
              "      padding: 0 0 0 0;\n",
              "      width: 32px;\n",
              "    }\n",
              "\n",
              "    .colab-df-convert:hover {\n",
              "      background-color: #E2EBFA;\n",
              "      box-shadow: 0px 1px 2px rgba(60, 64, 67, 0.3), 0px 1px 3px 1px rgba(60, 64, 67, 0.15);\n",
              "      fill: #174EA6;\n",
              "    }\n",
              "\n",
              "    [theme=dark] .colab-df-convert {\n",
              "      background-color: #3B4455;\n",
              "      fill: #D2E3FC;\n",
              "    }\n",
              "\n",
              "    [theme=dark] .colab-df-convert:hover {\n",
              "      background-color: #434B5C;\n",
              "      box-shadow: 0px 1px 3px 1px rgba(0, 0, 0, 0.15);\n",
              "      filter: drop-shadow(0px 1px 2px rgba(0, 0, 0, 0.3));\n",
              "      fill: #FFFFFF;\n",
              "    }\n",
              "  </style>\n",
              "\n",
              "      <script>\n",
              "        const buttonEl =\n",
              "          document.querySelector('#df-55e51935-c04b-4fe4-8930-4fd53ab941a0 button.colab-df-convert');\n",
              "        buttonEl.style.display =\n",
              "          google.colab.kernel.accessAllowed ? 'block' : 'none';\n",
              "\n",
              "        async function convertToInteractive(key) {\n",
              "          const element = document.querySelector('#df-55e51935-c04b-4fe4-8930-4fd53ab941a0');\n",
              "          const dataTable =\n",
              "            await google.colab.kernel.invokeFunction('convertToInteractive',\n",
              "                                                     [key], {});\n",
              "          if (!dataTable) return;\n",
              "\n",
              "          const docLinkHtml = 'Like what you see? Visit the ' +\n",
              "            '<a target=\"_blank\" href=https://colab.research.google.com/notebooks/data_table.ipynb>data table notebook</a>'\n",
              "            + ' to learn more about interactive tables.';\n",
              "          element.innerHTML = '';\n",
              "          dataTable['output_type'] = 'display_data';\n",
              "          await google.colab.output.renderOutput(dataTable, element);\n",
              "          const docLink = document.createElement('div');\n",
              "          docLink.innerHTML = docLinkHtml;\n",
              "          element.appendChild(docLink);\n",
              "        }\n",
              "      </script>\n",
              "    </div>\n",
              "  </div>\n",
              "  "
            ]
          },
          "metadata": {},
          "execution_count": 7
        }
      ]
    },
    {
      "cell_type": "code",
      "source": [
        "# Dropping ID column because it will not be helpful for our model\n",
        "df.drop([\"ID\"], axis = 1, inplace = True)"
      ],
      "metadata": {
        "id": "MobCMUynhfxz"
      },
      "execution_count": 8,
      "outputs": []
    },
    {
      "cell_type": "code",
      "source": [
        "# Checking for duplicated rows\n",
        "df[df.duplicated()].count()"
      ],
      "metadata": {
        "colab": {
          "base_uri": "https://localhost:8080/"
        },
        "id": "yZylBNJfjOpH",
        "outputId": "85a6aa2e-6fca-4554-e688-63db0c00d540"
      },
      "execution_count": 9,
      "outputs": [
        {
          "output_type": "execute_result",
          "data": {
            "text/plain": [
              "DateTime    0\n",
              "Junction    0\n",
              "Vehicles    0\n",
              "dtype: int64"
            ]
          },
          "metadata": {},
          "execution_count": 9
        }
      ]
    },
    {
      "cell_type": "code",
      "source": [
        "# Checking for nan values\n",
        "df[df.isna()].count()"
      ],
      "metadata": {
        "colab": {
          "base_uri": "https://localhost:8080/"
        },
        "id": "ICbI6fHWj31x",
        "outputId": "08a4092a-1da4-44e0-d825-e9ffe96f364e"
      },
      "execution_count": 10,
      "outputs": [
        {
          "output_type": "execute_result",
          "data": {
            "text/plain": [
              "DateTime    0\n",
              "Junction    0\n",
              "Vehicles    0\n",
              "dtype: int64"
            ]
          },
          "metadata": {},
          "execution_count": 10
        }
      ]
    },
    {
      "cell_type": "markdown",
      "source": [
        "### Feature Engineering"
      ],
      "metadata": {
        "id": "3kEyKnzZkYyt"
      }
    },
    {
      "cell_type": "code",
      "source": [
        "# Converting datetime to unix time\n",
        "df['DateTime'] = pd.to_datetime(df['DateTime'])\n",
        "df[\"unix_time_column\"] = df[\"DateTime\"].apply(lambda x: x.timestamp())"
      ],
      "metadata": {
        "id": "mUYSNmlmkdtS"
      },
      "execution_count": 11,
      "outputs": []
    },
    {
      "cell_type": "code",
      "source": [
        "# Checking if the datatype conversion worked\n",
        "df.info()"
      ],
      "metadata": {
        "colab": {
          "base_uri": "https://localhost:8080/"
        },
        "id": "rX26n2dOmgMv",
        "outputId": "8c2b59d0-ce6f-4482-e094-b7539ebea13b"
      },
      "execution_count": 12,
      "outputs": [
        {
          "output_type": "stream",
          "name": "stdout",
          "text": [
            "<class 'pandas.core.frame.DataFrame'>\n",
            "RangeIndex: 48120 entries, 0 to 48119\n",
            "Data columns (total 4 columns):\n",
            " #   Column            Non-Null Count  Dtype         \n",
            "---  ------            --------------  -----         \n",
            " 0   DateTime          48120 non-null  datetime64[ns]\n",
            " 1   Junction          48120 non-null  int64         \n",
            " 2   Vehicles          48120 non-null  int64         \n",
            " 3   unix_time_column  48120 non-null  float64       \n",
            "dtypes: datetime64[ns](1), float64(1), int64(2)\n",
            "memory usage: 1.5 MB\n"
          ]
        }
      ]
    },
    {
      "cell_type": "code",
      "source": [
        "# Making Weekday, Year, Month, Day, Time, Week, and Quarter\n",
        "df['Weekday'] = [datetime.weekday(date) for date in df.DateTime]\n",
        "df['Year'] = [date.year for date in df.DateTime]\n",
        "df['Month'] = [date.month for date in df.DateTime]\n",
        "df['Day'] = [date.day for date in df.DateTime]\n",
        "df['Seconds'] = [((date.hour*60+(date.minute))*60)+date.second for date in df.DateTime]\n",
        "df['Week'] = [date.week for date in df.DateTime]\n",
        "df['Quarter'] = [date.quarter for date in df.DateTime]"
      ],
      "metadata": {
        "id": "T9KdeKEfmtza"
      },
      "execution_count": 13,
      "outputs": []
    },
    {
      "cell_type": "code",
      "source": [
        "df.tail()"
      ],
      "metadata": {
        "id": "Gf5hcXTXpHry",
        "colab": {
          "base_uri": "https://localhost:8080/",
          "height": 206
        },
        "outputId": "264341b8-678d-4d7b-9723-ffee55c7d203"
      },
      "execution_count": 14,
      "outputs": [
        {
          "output_type": "execute_result",
          "data": {
            "text/plain": [
              "                 DateTime  Junction  Vehicles  unix_time_column  Weekday  \\\n",
              "48115 2017-06-30 19:00:00         4        11      1.498849e+09        4   \n",
              "48116 2017-06-30 20:00:00         4        30      1.498853e+09        4   \n",
              "48117 2017-06-30 21:00:00         4        16      1.498856e+09        4   \n",
              "48118 2017-06-30 22:00:00         4        22      1.498860e+09        4   \n",
              "48119 2017-06-30 23:00:00         4        12      1.498864e+09        4   \n",
              "\n",
              "       Year  Month  Day  Seconds  Week  Quarter  \n",
              "48115  2017      6   30    68400    26        2  \n",
              "48116  2017      6   30    72000    26        2  \n",
              "48117  2017      6   30    75600    26        2  \n",
              "48118  2017      6   30    79200    26        2  \n",
              "48119  2017      6   30    82800    26        2  "
            ],
            "text/html": [
              "\n",
              "  <div id=\"df-70249067-ee46-4721-9d9d-5da739834268\">\n",
              "    <div class=\"colab-df-container\">\n",
              "      <div>\n",
              "<style scoped>\n",
              "    .dataframe tbody tr th:only-of-type {\n",
              "        vertical-align: middle;\n",
              "    }\n",
              "\n",
              "    .dataframe tbody tr th {\n",
              "        vertical-align: top;\n",
              "    }\n",
              "\n",
              "    .dataframe thead th {\n",
              "        text-align: right;\n",
              "    }\n",
              "</style>\n",
              "<table border=\"1\" class=\"dataframe\">\n",
              "  <thead>\n",
              "    <tr style=\"text-align: right;\">\n",
              "      <th></th>\n",
              "      <th>DateTime</th>\n",
              "      <th>Junction</th>\n",
              "      <th>Vehicles</th>\n",
              "      <th>unix_time_column</th>\n",
              "      <th>Weekday</th>\n",
              "      <th>Year</th>\n",
              "      <th>Month</th>\n",
              "      <th>Day</th>\n",
              "      <th>Seconds</th>\n",
              "      <th>Week</th>\n",
              "      <th>Quarter</th>\n",
              "    </tr>\n",
              "  </thead>\n",
              "  <tbody>\n",
              "    <tr>\n",
              "      <th>48115</th>\n",
              "      <td>2017-06-30 19:00:00</td>\n",
              "      <td>4</td>\n",
              "      <td>11</td>\n",
              "      <td>1.498849e+09</td>\n",
              "      <td>4</td>\n",
              "      <td>2017</td>\n",
              "      <td>6</td>\n",
              "      <td>30</td>\n",
              "      <td>68400</td>\n",
              "      <td>26</td>\n",
              "      <td>2</td>\n",
              "    </tr>\n",
              "    <tr>\n",
              "      <th>48116</th>\n",
              "      <td>2017-06-30 20:00:00</td>\n",
              "      <td>4</td>\n",
              "      <td>30</td>\n",
              "      <td>1.498853e+09</td>\n",
              "      <td>4</td>\n",
              "      <td>2017</td>\n",
              "      <td>6</td>\n",
              "      <td>30</td>\n",
              "      <td>72000</td>\n",
              "      <td>26</td>\n",
              "      <td>2</td>\n",
              "    </tr>\n",
              "    <tr>\n",
              "      <th>48117</th>\n",
              "      <td>2017-06-30 21:00:00</td>\n",
              "      <td>4</td>\n",
              "      <td>16</td>\n",
              "      <td>1.498856e+09</td>\n",
              "      <td>4</td>\n",
              "      <td>2017</td>\n",
              "      <td>6</td>\n",
              "      <td>30</td>\n",
              "      <td>75600</td>\n",
              "      <td>26</td>\n",
              "      <td>2</td>\n",
              "    </tr>\n",
              "    <tr>\n",
              "      <th>48118</th>\n",
              "      <td>2017-06-30 22:00:00</td>\n",
              "      <td>4</td>\n",
              "      <td>22</td>\n",
              "      <td>1.498860e+09</td>\n",
              "      <td>4</td>\n",
              "      <td>2017</td>\n",
              "      <td>6</td>\n",
              "      <td>30</td>\n",
              "      <td>79200</td>\n",
              "      <td>26</td>\n",
              "      <td>2</td>\n",
              "    </tr>\n",
              "    <tr>\n",
              "      <th>48119</th>\n",
              "      <td>2017-06-30 23:00:00</td>\n",
              "      <td>4</td>\n",
              "      <td>12</td>\n",
              "      <td>1.498864e+09</td>\n",
              "      <td>4</td>\n",
              "      <td>2017</td>\n",
              "      <td>6</td>\n",
              "      <td>30</td>\n",
              "      <td>82800</td>\n",
              "      <td>26</td>\n",
              "      <td>2</td>\n",
              "    </tr>\n",
              "  </tbody>\n",
              "</table>\n",
              "</div>\n",
              "      <button class=\"colab-df-convert\" onclick=\"convertToInteractive('df-70249067-ee46-4721-9d9d-5da739834268')\"\n",
              "              title=\"Convert this dataframe to an interactive table.\"\n",
              "              style=\"display:none;\">\n",
              "        \n",
              "  <svg xmlns=\"http://www.w3.org/2000/svg\" height=\"24px\"viewBox=\"0 0 24 24\"\n",
              "       width=\"24px\">\n",
              "    <path d=\"M0 0h24v24H0V0z\" fill=\"none\"/>\n",
              "    <path d=\"M18.56 5.44l.94 2.06.94-2.06 2.06-.94-2.06-.94-.94-2.06-.94 2.06-2.06.94zm-11 1L8.5 8.5l.94-2.06 2.06-.94-2.06-.94L8.5 2.5l-.94 2.06-2.06.94zm10 10l.94 2.06.94-2.06 2.06-.94-2.06-.94-.94-2.06-.94 2.06-2.06.94z\"/><path d=\"M17.41 7.96l-1.37-1.37c-.4-.4-.92-.59-1.43-.59-.52 0-1.04.2-1.43.59L10.3 9.45l-7.72 7.72c-.78.78-.78 2.05 0 2.83L4 21.41c.39.39.9.59 1.41.59.51 0 1.02-.2 1.41-.59l7.78-7.78 2.81-2.81c.8-.78.8-2.07 0-2.86zM5.41 20L4 18.59l7.72-7.72 1.47 1.35L5.41 20z\"/>\n",
              "  </svg>\n",
              "      </button>\n",
              "      \n",
              "  <style>\n",
              "    .colab-df-container {\n",
              "      display:flex;\n",
              "      flex-wrap:wrap;\n",
              "      gap: 12px;\n",
              "    }\n",
              "\n",
              "    .colab-df-convert {\n",
              "      background-color: #E8F0FE;\n",
              "      border: none;\n",
              "      border-radius: 50%;\n",
              "      cursor: pointer;\n",
              "      display: none;\n",
              "      fill: #1967D2;\n",
              "      height: 32px;\n",
              "      padding: 0 0 0 0;\n",
              "      width: 32px;\n",
              "    }\n",
              "\n",
              "    .colab-df-convert:hover {\n",
              "      background-color: #E2EBFA;\n",
              "      box-shadow: 0px 1px 2px rgba(60, 64, 67, 0.3), 0px 1px 3px 1px rgba(60, 64, 67, 0.15);\n",
              "      fill: #174EA6;\n",
              "    }\n",
              "\n",
              "    [theme=dark] .colab-df-convert {\n",
              "      background-color: #3B4455;\n",
              "      fill: #D2E3FC;\n",
              "    }\n",
              "\n",
              "    [theme=dark] .colab-df-convert:hover {\n",
              "      background-color: #434B5C;\n",
              "      box-shadow: 0px 1px 3px 1px rgba(0, 0, 0, 0.15);\n",
              "      filter: drop-shadow(0px 1px 2px rgba(0, 0, 0, 0.3));\n",
              "      fill: #FFFFFF;\n",
              "    }\n",
              "  </style>\n",
              "\n",
              "      <script>\n",
              "        const buttonEl =\n",
              "          document.querySelector('#df-70249067-ee46-4721-9d9d-5da739834268 button.colab-df-convert');\n",
              "        buttonEl.style.display =\n",
              "          google.colab.kernel.accessAllowed ? 'block' : 'none';\n",
              "\n",
              "        async function convertToInteractive(key) {\n",
              "          const element = document.querySelector('#df-70249067-ee46-4721-9d9d-5da739834268');\n",
              "          const dataTable =\n",
              "            await google.colab.kernel.invokeFunction('convertToInteractive',\n",
              "                                                     [key], {});\n",
              "          if (!dataTable) return;\n",
              "\n",
              "          const docLinkHtml = 'Like what you see? Visit the ' +\n",
              "            '<a target=\"_blank\" href=https://colab.research.google.com/notebooks/data_table.ipynb>data table notebook</a>'\n",
              "            + ' to learn more about interactive tables.';\n",
              "          element.innerHTML = '';\n",
              "          dataTable['output_type'] = 'display_data';\n",
              "          await google.colab.output.renderOutput(dataTable, element);\n",
              "          const docLink = document.createElement('div');\n",
              "          docLink.innerHTML = docLinkHtml;\n",
              "          element.appendChild(docLink);\n",
              "        }\n",
              "      </script>\n",
              "    </div>\n",
              "  </div>\n",
              "  "
            ]
          },
          "metadata": {},
          "execution_count": 14
        }
      ]
    },
    {
      "cell_type": "markdown",
      "source": [
        "### Data Visualization"
      ],
      "metadata": {
        "id": "t87jgeXN1qZM"
      }
    },
    {
      "cell_type": "code",
      "source": [
        "sns.pairplot(df, x_vars = [\"Junction\", \"Vehicles\", \"Weekday\", \"Day\", \"Week\", \"Quarter\"], y_vars = [\"Junction\", \"Vehicles\", \"Weekday\", \"Day\", \"Week\", \"Quarter\"])"
      ],
      "metadata": {
        "colab": {
          "base_uri": "https://localhost:8080/",
          "height": 1000
        },
        "id": "8ApCy7qYqSM2",
        "outputId": "b6609a75-d592-4929-af13-e821cc270d25"
      },
      "execution_count": 15,
      "outputs": [
        {
          "output_type": "execute_result",
          "data": {
            "text/plain": [
              "<seaborn.axisgrid.PairGrid at 0x7f6c74533640>"
            ]
          },
          "metadata": {},
          "execution_count": 15
        },
        {
          "output_type": "display_data",
          "data": {
            "text/plain": [
              "<Figure size 1080x1080 with 42 Axes>"
            ],
            "image/png": "[encoded data removed]"
          },
          "metadata": {
            "needs_background": "light"
          }
        }
      ]
    },
    {
      "cell_type": "code",
      "source": [
        "binwidth = 1\n",
        "plt.hist(df.Vehicles, bins = range(min(df.Vehicles), max(df.Vehicles) + binwidth, binwidth))\n",
        "plt.show()"
      ],
      "metadata": {
        "colab": {
          "base_uri": "https://localhost:8080/",
          "height": 265
        },
        "id": "uBvtJ3uR1tVe",
        "outputId": "594b82c2-a265-43bd-972c-398fd1b3bb36"
      },
      "execution_count": 16,
      "outputs": [
        {
          "output_type": "display_data",
          "data": {
            "text/plain": [
              "<Figure size 432x288 with 1 Axes>"
            ],
            "image/png": "[encoded data removed]"
          },
          "metadata": {
            "needs_background": "light"
          }
        }
      ]
    },
    {
      "cell_type": "code",
      "source": [
        "# Code below makes a heatmap to see important correlations\n",
        "plt.figure(figsize=(15, 7))\n",
        "sns.heatmap(df.corr(), annot=True, vmin=-1, vmax=1, fmt=\".2f\", cmap=\"Spectral\")\n",
        "plt.show()"
      ],
      "metadata": {
        "colab": {
          "base_uri": "https://localhost:8080/",
          "height": 513
        },
        "id": "I-dnG1iP3jca",
        "outputId": "96f29146-80bd-432d-efa0-22e4b8bf61ac"
      },
      "execution_count": 17,
      "outputs": [
        {
          "output_type": "display_data",
          "data": {
            "text/plain": [
              "<Figure size 1080x504 with 2 Axes>"
            ],
            "image/png": "[encoded data removed]"
          },
          "metadata": {
            "needs_background": "light"
          }
        }
      ]
    },
    {
      "cell_type": "code",
      "source": [
        "labels = 'Junction 1', 'Junction 2', 'Junction 3', 'Junction4'\n",
        "sizes = [df.Junction[df['Junction']==1].count(), df.Junction[df['Junction']==2].count(), df.Junction[df['Junction']==3].count(), df.Junction[df['Junction']==4].count()]\n",
        "#explode = (0, 0.1)\n",
        "fig1, ax1 = plt.subplots(figsize=(10, 8))\n",
        "ax1.pie(sizes, labels=labels, autopct='%1.1f%%',\n",
        "        shadow=True, startangle=90)\n",
        "ax1.axis('equal')\n",
        "plt.title(\"Proportion of Junctions\", size = 20)\n",
        "plt.show()"
      ],
      "metadata": {
        "colab": {
          "base_uri": "https://localhost:8080/",
          "height": 487
        },
        "id": "kAiWfL2Tq86S",
        "outputId": "346001fe-548d-4519-fb46-8fdc6b839395"
      },
      "execution_count": 18,
      "outputs": [
        {
          "output_type": "display_data",
          "data": {
            "text/plain": [
              "<Figure size 720x576 with 1 Axes>"
            ],
            "image/png": "[encoded data removed]"
          },
          "metadata": {}
        }
      ]
    },
    {
      "cell_type": "code",
      "source": [
        "# class count\n",
        "class_count_0, class_count_1, class_count_2, class_count_3 = df['Junction'].value_counts()\n",
        "\n",
        "# Separate class\n",
        "class_1 = df[df['Junction'] == 1]\n",
        "class_2 = df[df['Junction'] == 2]\n",
        "class_3 = df[df['Junction'] == 3]\n",
        "class_4 = df[df['Junction'] == 4]# print the shape of the class\n",
        "print('Junction 1:', class_1.shape)\n",
        "print('Junction 2:', class_2.shape)\n",
        "print('Junction 3:', class_3.shape)\n",
        "print('Junction 4:', class_4.shape)"
      ],
      "metadata": {
        "colab": {
          "base_uri": "https://localhost:8080/"
        },
        "id": "UEkl5Aiw5oO6",
        "outputId": "4813273e-0421-4f56-9b44-33b49683a8ff"
      },
      "execution_count": 19,
      "outputs": [
        {
          "output_type": "stream",
          "name": "stdout",
          "text": [
            "Junction 1: (14592, 11)\n",
            "Junction 2: (14592, 11)\n",
            "Junction 3: (14592, 11)\n",
            "Junction 4: (4344, 11)\n"
          ]
        }
      ]
    },
    {
      "cell_type": "code",
      "source": [
        "# FIX ME LATER\n",
        "#class_1_under = class_1.sample(class_count_1)\n",
        "\n",
        "#test_under = pd.concat([class_0_under, class_1], axis=0)\n",
        "\n",
        "#print(\"total class of 1 and0:\",test_under['Class'].value_counts())# plot the count after under-sampeling\n",
        "#test_under['Class'].value_counts().plot(kind='bar', title='count (target)')"
      ],
      "metadata": {
        "id": "zmYKK-l56n24"
      },
      "execution_count": null,
      "outputs": []
    },
    {
      "cell_type": "code",
      "source": [
        "#from pandas_profiling import ProfileReport\n",
        "#profile = ProfileReport(df, title='Traffic Profile Report', html={'style':{'full_width':True}})\n",
        "#profile.to_notebook_iframe()"
      ],
      "metadata": {
        "id": "BRkDAP1j4COh"
      },
      "execution_count": null,
      "outputs": []
    },
    {
      "cell_type": "code",
      "source": [
        "#analysis = sv.analyze(df)\n",
        "#analysis.show_notebook() # or export with show_html()"
      ],
      "metadata": {
        "id": "hFrZxuXg8O15"
      },
      "execution_count": null,
      "outputs": []
    },
    {
      "cell_type": "markdown",
      "source": [
        "### Model Building"
      ],
      "metadata": {
        "id": "1NRCUw8NonJj"
      }
    },
    {
      "cell_type": "markdown",
      "source": [
        "#### LSTM Predicting Vehicles at a Junction"
      ],
      "metadata": {
        "id": "TuJQurSiopzV"
      }
    },
    {
      "cell_type": "code",
      "source": [
        "#create your training and validation sets here\n",
        "#create your training and validation sets here\n",
        "data_one_percent = int(len(df.index))\n",
        "\n",
        "#Take Random data subset\n",
        "data_one_percent_rand = df.iloc[0:data_one_percent,:]\n",
        "\n",
        "#split data subset 80/20 for train/validation\n",
        "eighty_percent = int(data_one_percent * 0.8)\n",
        "train_df = data_one_percent_rand.iloc[0:eighty_percent]\n",
        "val_df = data_one_percent_rand.drop(train_df.index)"
      ],
      "metadata": {
        "id": "_9KPjDoUQESB"
      },
      "execution_count": 20,
      "outputs": []
    },
    {
      "cell_type": "code",
      "source": [
        "val_df.head()"
      ],
      "metadata": {
        "colab": {
          "base_uri": "https://localhost:8080/",
          "height": 206
        },
        "id": "erSKTWgAahb7",
        "outputId": "c088ccc6-364a-4276-90cd-f68c665c9b07"
      },
      "execution_count": 21,
      "outputs": [
        {
          "output_type": "execute_result",
          "data": {
            "text/plain": [
              "                 DateTime  Junction  Vehicles  unix_time_column  Weekday  \\\n",
              "38496 2016-11-23 00:00:00         3        17      1.479859e+09        2   \n",
              "38497 2016-11-23 01:00:00         3        12      1.479863e+09        2   \n",
              "38498 2016-11-23 02:00:00         3        10      1.479866e+09        2   \n",
              "38499 2016-11-23 03:00:00         3         7      1.479870e+09        2   \n",
              "38500 2016-11-23 04:00:00         3         4      1.479874e+09        2   \n",
              "\n",
              "       Year  Month  Day  Seconds  Week  Quarter  \n",
              "38496  2016     11   23        0    47        4  \n",
              "38497  2016     11   23     3600    47        4  \n",
              "38498  2016     11   23     7200    47        4  \n",
              "38499  2016     11   23    10800    47        4  \n",
              "38500  2016     11   23    14400    47        4  "
            ],
            "text/html": [
              "\n",
              "  <div id=\"df-65613cb5-3d61-4487-ac53-c7b9445d2f0b\">\n",
              "    <div class=\"colab-df-container\">\n",
              "      <div>\n",
              "<style scoped>\n",
              "    .dataframe tbody tr th:only-of-type {\n",
              "        vertical-align: middle;\n",
              "    }\n",
              "\n",
              "    .dataframe tbody tr th {\n",
              "        vertical-align: top;\n",
              "    }\n",
              "\n",
              "    .dataframe thead th {\n",
              "        text-align: right;\n",
              "    }\n",
              "</style>\n",
              "<table border=\"1\" class=\"dataframe\">\n",
              "  <thead>\n",
              "    <tr style=\"text-align: right;\">\n",
              "      <th></th>\n",
              "      <th>DateTime</th>\n",
              "      <th>Junction</th>\n",
              "      <th>Vehicles</th>\n",
              "      <th>unix_time_column</th>\n",
              "      <th>Weekday</th>\n",
              "      <th>Year</th>\n",
              "      <th>Month</th>\n",
              "      <th>Day</th>\n",
              "      <th>Seconds</th>\n",
              "      <th>Week</th>\n",
              "      <th>Quarter</th>\n",
              "    </tr>\n",
              "  </thead>\n",
              "  <tbody>\n",
              "    <tr>\n",
              "      <th>38496</th>\n",
              "      <td>2016-11-23 00:00:00</td>\n",
              "      <td>3</td>\n",
              "      <td>17</td>\n",
              "      <td>1.479859e+09</td>\n",
              "      <td>2</td>\n",
              "      <td>2016</td>\n",
              "      <td>11</td>\n",
              "      <td>23</td>\n",
              "      <td>0</td>\n",
              "      <td>47</td>\n",
              "      <td>4</td>\n",
              "    </tr>\n",
              "    <tr>\n",
              "      <th>38497</th>\n",
              "      <td>2016-11-23 01:00:00</td>\n",
              "      <td>3</td>\n",
              "      <td>12</td>\n",
              "      <td>1.479863e+09</td>\n",
              "      <td>2</td>\n",
              "      <td>2016</td>\n",
              "      <td>11</td>\n",
              "      <td>23</td>\n",
              "      <td>3600</td>\n",
              "      <td>47</td>\n",
              "      <td>4</td>\n",
              "    </tr>\n",
              "    <tr>\n",
              "      <th>38498</th>\n",
              "      <td>2016-11-23 02:00:00</td>\n",
              "      <td>3</td>\n",
              "      <td>10</td>\n",
              "      <td>1.479866e+09</td>\n",
              "      <td>2</td>\n",
              "      <td>2016</td>\n",
              "      <td>11</td>\n",
              "      <td>23</td>\n",
              "      <td>7200</td>\n",
              "      <td>47</td>\n",
              "      <td>4</td>\n",
              "    </tr>\n",
              "    <tr>\n",
              "      <th>38499</th>\n",
              "      <td>2016-11-23 03:00:00</td>\n",
              "      <td>3</td>\n",
              "      <td>7</td>\n",
              "      <td>1.479870e+09</td>\n",
              "      <td>2</td>\n",
              "      <td>2016</td>\n",
              "      <td>11</td>\n",
              "      <td>23</td>\n",
              "      <td>10800</td>\n",
              "      <td>47</td>\n",
              "      <td>4</td>\n",
              "    </tr>\n",
              "    <tr>\n",
              "      <th>38500</th>\n",
              "      <td>2016-11-23 04:00:00</td>\n",
              "      <td>3</td>\n",
              "      <td>4</td>\n",
              "      <td>1.479874e+09</td>\n",
              "      <td>2</td>\n",
              "      <td>2016</td>\n",
              "      <td>11</td>\n",
              "      <td>23</td>\n",
              "      <td>14400</td>\n",
              "      <td>47</td>\n",
              "      <td>4</td>\n",
              "    </tr>\n",
              "  </tbody>\n",
              "</table>\n",
              "</div>\n",
              "      <button class=\"colab-df-convert\" onclick=\"convertToInteractive('df-65613cb5-3d61-4487-ac53-c7b9445d2f0b')\"\n",
              "              title=\"Convert this dataframe to an interactive table.\"\n",
              "              style=\"display:none;\">\n",
              "        \n",
              "  <svg xmlns=\"http://www.w3.org/2000/svg\" height=\"24px\"viewBox=\"0 0 24 24\"\n",
              "       width=\"24px\">\n",
              "    <path d=\"M0 0h24v24H0V0z\" fill=\"none\"/>\n",
              "    <path d=\"M18.56 5.44l.94 2.06.94-2.06 2.06-.94-2.06-.94-.94-2.06-.94 2.06-2.06.94zm-11 1L8.5 8.5l.94-2.06 2.06-.94-2.06-.94L8.5 2.5l-.94 2.06-2.06.94zm10 10l.94 2.06.94-2.06 2.06-.94-2.06-.94-.94-2.06-.94 2.06-2.06.94z\"/><path d=\"M17.41 7.96l-1.37-1.37c-.4-.4-.92-.59-1.43-.59-.52 0-1.04.2-1.43.59L10.3 9.45l-7.72 7.72c-.78.78-.78 2.05 0 2.83L4 21.41c.39.39.9.59 1.41.59.51 0 1.02-.2 1.41-.59l7.78-7.78 2.81-2.81c.8-.78.8-2.07 0-2.86zM5.41 20L4 18.59l7.72-7.72 1.47 1.35L5.41 20z\"/>\n",
              "  </svg>\n",
              "      </button>\n",
              "      \n",
              "  <style>\n",
              "    .colab-df-container {\n",
              "      display:flex;\n",
              "      flex-wrap:wrap;\n",
              "      gap: 12px;\n",
              "    }\n",
              "\n",
              "    .colab-df-convert {\n",
              "      background-color: #E8F0FE;\n",
              "      border: none;\n",
              "      border-radius: 50%;\n",
              "      cursor: pointer;\n",
              "      display: none;\n",
              "      fill: #1967D2;\n",
              "      height: 32px;\n",
              "      padding: 0 0 0 0;\n",
              "      width: 32px;\n",
              "    }\n",
              "\n",
              "    .colab-df-convert:hover {\n",
              "      background-color: #E2EBFA;\n",
              "      box-shadow: 0px 1px 2px rgba(60, 64, 67, 0.3), 0px 1px 3px 1px rgba(60, 64, 67, 0.15);\n",
              "      fill: #174EA6;\n",
              "    }\n",
              "\n",
              "    [theme=dark] .colab-df-convert {\n",
              "      background-color: #3B4455;\n",
              "      fill: #D2E3FC;\n",
              "    }\n",
              "\n",
              "    [theme=dark] .colab-df-convert:hover {\n",
              "      background-color: #434B5C;\n",
              "      box-shadow: 0px 1px 3px 1px rgba(0, 0, 0, 0.15);\n",
              "      filter: drop-shadow(0px 1px 2px rgba(0, 0, 0, 0.3));\n",
              "      fill: #FFFFFF;\n",
              "    }\n",
              "  </style>\n",
              "\n",
              "      <script>\n",
              "        const buttonEl =\n",
              "          document.querySelector('#df-65613cb5-3d61-4487-ac53-c7b9445d2f0b button.colab-df-convert');\n",
              "        buttonEl.style.display =\n",
              "          google.colab.kernel.accessAllowed ? 'block' : 'none';\n",
              "\n",
              "        async function convertToInteractive(key) {\n",
              "          const element = document.querySelector('#df-65613cb5-3d61-4487-ac53-c7b9445d2f0b');\n",
              "          const dataTable =\n",
              "            await google.colab.kernel.invokeFunction('convertToInteractive',\n",
              "                                                     [key], {});\n",
              "          if (!dataTable) return;\n",
              "\n",
              "          const docLinkHtml = 'Like what you see? Visit the ' +\n",
              "            '<a target=\"_blank\" href=https://colab.research.google.com/notebooks/data_table.ipynb>data table notebook</a>'\n",
              "            + ' to learn more about interactive tables.';\n",
              "          element.innerHTML = '';\n",
              "          dataTable['output_type'] = 'display_data';\n",
              "          await google.colab.output.renderOutput(dataTable, element);\n",
              "          const docLink = document.createElement('div');\n",
              "          docLink.innerHTML = docLinkHtml;\n",
              "          element.appendChild(docLink);\n",
              "        }\n",
              "      </script>\n",
              "    </div>\n",
              "  </div>\n",
              "  "
            ]
          },
          "metadata": {},
          "execution_count": 21
        }
      ]
    },
    {
      "cell_type": "code",
      "source": [
        "train_df.shape, val_df.shape"
      ],
      "metadata": {
        "id": "uqEzMH4tVOFi",
        "outputId": "61bb7253-73bf-4fd1-f625-853f2f664d20",
        "colab": {
          "base_uri": "https://localhost:8080/"
        }
      },
      "execution_count": 22,
      "outputs": [
        {
          "output_type": "execute_result",
          "data": {
            "text/plain": [
              "((38496, 11), (9624, 11))"
            ]
          },
          "metadata": {},
          "execution_count": 22
        }
      ]
    },
    {
      "cell_type": "code",
      "source": [
        "seq_arrays = []\n",
        "seq_labs = []"
      ],
      "metadata": {
        "id": "i2o-1v2XPxgc"
      },
      "execution_count": 23,
      "outputs": []
    },
    {
      "cell_type": "code",
      "source": [
        "# we'll start out with a 3 hour \n",
        "seq_length = 3\n",
        "ph = 1\n",
        "\n",
        "feat_cols = ['Vehicles']\n",
        "\n",
        "#create list of sequence length GAP readings\n",
        "#Based my for loop to go through the sequence length GAP readings by using \n",
        "#the Kaggle link: https://www.kaggle.com/code/nilakay/lstm-time-series-iot\n",
        "for i in range(len(train_df) - seq_length - ph):\n",
        "    seq = df.iloc[i:i + seq_length][feat_cols].to_numpy()\n",
        "    seq_arrays.append(seq)\n",
        "    seq_lab = df.iloc[i+ seq_length + ph][feat_cols].to_numpy()[-1]\n",
        "    seq_labs.append(seq_lab)\n",
        "\n",
        "#convert to numpy arrays and floats to appease keras/tensorflow        \n",
        "seq_arrays = np.array(seq_arrays, dtype = object).astype(np.float32)\n",
        "seq_labs = np.array(seq_labs, dtype = object).astype(np.float32)\n",
        "\n",
        "#Reshape seq_arrays\n",
        "\n",
        "seq_arrays = seq_arrays.reshape((seq_arrays.shape[0], seq_arrays.shape[1], len(feat_cols)))"
      ],
      "metadata": {
        "id": "otTJC3_cPCwE"
      },
      "execution_count": 24,
      "outputs": []
    },
    {
      "cell_type": "code",
      "source": [
        "assert(seq_arrays.shape == (len(train_df)-seq_length-ph,seq_length, len(feat_cols)))\n",
        "assert(seq_labs.shape == (len(train_df)-seq_length-ph,))"
      ],
      "metadata": {
        "id": "iq4PcwwDQTJq"
      },
      "execution_count": 25,
      "outputs": []
    },
    {
      "cell_type": "code",
      "source": [
        "seq_labs = seq_labs.reshape(-1,1)"
      ],
      "metadata": {
        "id": "vZb-H3qKQaHs"
      },
      "execution_count": 26,
      "outputs": []
    },
    {
      "cell_type": "code",
      "source": [
        "# define path to save model\n",
        "model_path = 'LSTM_model1.h5'\n",
        "\n",
        "# build the network\n",
        "nb_features = seq_arrays.shape[2] #number of features selected with sequence_cols\n",
        "nb_out = seq_labs.shape[1] #expected output length\n",
        "\n",
        "model = Sequential()\n",
        "#add first LSTM layer\n",
        "model.add(LSTM(\n",
        "         input_shape=(seq_length, nb_features),\n",
        "         units=15, #number of hidden units\n",
        "         return_sequences=True))\n",
        "model.add(Dropout(0.2))\n",
        "# add second LSTM layer\n",
        "model.add(LSTM(\n",
        "          units=10,\n",
        "          return_sequences=False))\n",
        "model.add(Dropout(0.2))\n",
        "\n",
        "model.add(Dense(units=nb_out))\n",
        "model.add(Activation('relu'))\n",
        "optimizer = keras.optimizers.Adam(learning_rate = 0.01)\n",
        "model.compile(loss='mean_squared_error', optimizer=optimizer,metrics=['mse'])\n",
        "print(model.summary())"
      ],
      "metadata": {
        "colab": {
          "base_uri": "https://localhost:8080/"
        },
        "id": "XzDjbiAhQurL",
        "outputId": "576cf996-238c-4853-eb5b-469e4456fb06"
      },
      "execution_count": 27,
      "outputs": [
        {
          "output_type": "stream",
          "name": "stdout",
          "text": [
            "Model: \"sequential\"\n",
            "_________________________________________________________________\n",
            " Layer (type)                Output Shape              Param #   \n",
            "=================================================================\n",
            " lstm (LSTM)                 (None, 3, 15)             1020      \n",
            "                                                                 \n",
            " dropout (Dropout)           (None, 3, 15)             0         \n",
            "                                                                 \n",
            " lstm_1 (LSTM)               (None, 10)                1040      \n",
            "                                                                 \n",
            " dropout_1 (Dropout)         (None, 10)                0         \n",
            "                                                                 \n",
            " dense (Dense)               (None, 1)                 11        \n",
            "                                                                 \n",
            " activation (Activation)     (None, 1)                 0         \n",
            "                                                                 \n",
            "=================================================================\n",
            "Total params: 2,071\n",
            "Trainable params: 2,071\n",
            "Non-trainable params: 0\n",
            "_________________________________________________________________\n",
            "None\n"
          ]
        }
      ]
    },
    {
      "cell_type": "code",
      "source": [
        "# fit the network\n",
        "history = model.fit(seq_arrays, seq_labs, epochs=100, batch_size=500, validation_split=0.05, verbose=2,\n",
        "          callbacks = [keras.callbacks.EarlyStopping(monitor='val_loss', min_delta=0, patience=10, verbose=0, mode='min'),\n",
        "                       keras.callbacks.ModelCheckpoint(model_path,monitor='val_loss', save_best_only=True, mode='min', verbose=0)]\n",
        "          )\n",
        "\n",
        "# list all data in history\n",
        "print(history.history.keys())"
      ],
      "metadata": {
        "colab": {
          "base_uri": "https://localhost:8080/"
        },
        "id": "PoHDkPGGRsK6",
        "outputId": "fde03de5-2964-4b2b-9595-64f4d41c87ea"
      },
      "execution_count": 28,
      "outputs": [
        {
          "output_type": "stream",
          "name": "stdout",
          "text": [
            "Epoch 1/100\n",
            "74/74 - 9s - loss: 902.2958 - mse: 902.2958 - val_loss: 111.8950 - val_mse: 111.8950 - 9s/epoch - 118ms/step\n",
            "Epoch 2/100\n",
            "74/74 - 1s - loss: 640.0889 - mse: 640.0889 - val_loss: 76.2676 - val_mse: 76.2676 - 534ms/epoch - 7ms/step\n",
            "Epoch 3/100\n",
            "74/74 - 1s - loss: 484.6288 - mse: 484.6288 - val_loss: 56.8342 - val_mse: 56.8342 - 536ms/epoch - 7ms/step\n",
            "Epoch 4/100\n",
            "74/74 - 1s - loss: 380.4558 - mse: 380.4558 - val_loss: 52.6862 - val_mse: 52.6862 - 527ms/epoch - 7ms/step\n",
            "Epoch 5/100\n",
            "74/74 - 1s - loss: 308.8943 - mse: 308.8943 - val_loss: 50.9345 - val_mse: 50.9345 - 544ms/epoch - 7ms/step\n",
            "Epoch 6/100\n",
            "74/74 - 1s - loss: 256.0895 - mse: 256.0895 - val_loss: 55.1692 - val_mse: 55.1692 - 506ms/epoch - 7ms/step\n",
            "Epoch 7/100\n",
            "74/74 - 0s - loss: 219.3372 - mse: 219.3372 - val_loss: 51.8603 - val_mse: 51.8603 - 424ms/epoch - 6ms/step\n",
            "Epoch 8/100\n",
            "74/74 - 0s - loss: 189.6225 - mse: 189.6225 - val_loss: 52.1442 - val_mse: 52.1442 - 375ms/epoch - 5ms/step\n",
            "Epoch 9/100\n",
            "74/74 - 0s - loss: 168.0348 - mse: 168.0348 - val_loss: 53.8840 - val_mse: 53.8840 - 390ms/epoch - 5ms/step\n",
            "Epoch 10/100\n",
            "74/74 - 0s - loss: 150.3858 - mse: 150.3858 - val_loss: 53.4097 - val_mse: 53.4097 - 362ms/epoch - 5ms/step\n",
            "Epoch 11/100\n",
            "74/74 - 0s - loss: 137.6688 - mse: 137.6688 - val_loss: 53.5897 - val_mse: 53.5897 - 385ms/epoch - 5ms/step\n",
            "Epoch 12/100\n",
            "74/74 - 0s - loss: 127.1223 - mse: 127.1223 - val_loss: 52.9950 - val_mse: 52.9950 - 362ms/epoch - 5ms/step\n",
            "Epoch 13/100\n",
            "74/74 - 0s - loss: 118.8718 - mse: 118.8718 - val_loss: 60.5314 - val_mse: 60.5314 - 383ms/epoch - 5ms/step\n",
            "Epoch 14/100\n",
            "74/74 - 0s - loss: 110.8939 - mse: 110.8939 - val_loss: 55.5148 - val_mse: 55.5148 - 397ms/epoch - 5ms/step\n",
            "Epoch 15/100\n",
            "74/74 - 0s - loss: 106.2812 - mse: 106.2812 - val_loss: 56.3259 - val_mse: 56.3259 - 395ms/epoch - 5ms/step\n",
            "dict_keys(['loss', 'mse', 'val_loss', 'val_mse'])\n"
          ]
        }
      ]
    },
    {
      "cell_type": "code",
      "source": [
        "# summarize history for MSE\n",
        "fig_acc = plt.figure(figsize=(10, 10))\n",
        "plt.plot(history.history['mse'])\n",
        "plt.plot(history.history['val_mse'])\n",
        "plt.title('model MSE')\n",
        "plt.ylabel('MSE')\n",
        "plt.xlabel('epoch')\n",
        "plt.legend(['train', 'test'], loc='upper left')\n",
        "plt.show()\n",
        "fig_acc.savefig(\"LSTM_mse1.png\")"
      ],
      "metadata": {
        "colab": {
          "base_uri": "https://localhost:8080/",
          "height": 621
        },
        "id": "_iaWOww-SCvr",
        "outputId": "c3fd846b-6cb0-44a6-ca68-de8f679e2d4a"
      },
      "execution_count": 29,
      "outputs": [
        {
          "output_type": "display_data",
          "data": {
            "text/plain": [
              "<Figure size 720x720 with 1 Axes>"
            ],
            "image/png": "[encoded data removed]"
          },
          "metadata": {
            "needs_background": "light"
          }
        }
      ]
    },
    {
      "cell_type": "code",
      "source": [
        "# summarize history for Loss\n",
        "fig_acc = plt.figure(figsize=(10, 10))\n",
        "plt.plot(history.history['loss'])\n",
        "plt.plot(history.history['val_loss'])\n",
        "plt.title('model loss')\n",
        "plt.ylabel('loss')\n",
        "plt.xlabel('epoch')\n",
        "plt.legend(['train', 'test'], loc='upper left')\n",
        "plt.show()\n",
        "fig_acc.savefig(\"LSTM_loss1.png\")"
      ],
      "metadata": {
        "colab": {
          "base_uri": "https://localhost:8080/",
          "height": 621
        },
        "id": "_Sw2RITfSQ-A",
        "outputId": "9b0f80af-038f-41f2-af40-45ab1713604b"
      },
      "execution_count": 30,
      "outputs": [
        {
          "output_type": "display_data",
          "data": {
            "text/plain": [
              "<Figure size 720x720 with 1 Axes>"
            ],
            "image/png": "[encoded data removed]"
          },
          "metadata": {
            "needs_background": "light"
          }
        }
      ]
    },
    {
      "cell_type": "code",
      "source": [
        "val_arrays = []\n",
        "val_labs = []\n",
        "\n",
        "#create list of GAP readings starting with a minimum of two readings\n",
        "for i in range(2,len(val_df) - seq_length - ph):\n",
        "  if (i < seq_length):\n",
        "      seq = val_df.iloc[0:i][feat_cols].to_numpy()\n",
        "      val_arrays.append(seq)\n",
        "      val_lab = val_df.iloc[i + ph][feat_cols].to_numpy()[-1]\n",
        "      val_labs.append(val_lab)\n",
        "  else:\n",
        "      seq = val_df.iloc[i:i + seq_length][feat_cols].to_numpy()\n",
        "      val_arrays.append(seq)\n",
        "      val_lab = val_df.iloc[i + seq_length + ph][feat_cols].to_numpy()[-1]\n",
        "      val_labs.append(val_lab)\n",
        "# use the pad_sequences function on your input sequences\n",
        "# remember that we will later want our datatype to be np.float32\n",
        "val_arrays = tf.keras.utils.pad_sequences(\n",
        "    val_arrays,\n",
        "    maxlen=None,\n",
        "    dtype='float32',\n",
        "    padding='pre',\n",
        "    truncating='pre',\n",
        "    value=0.0\n",
        ")\n",
        "#convert labels to numpy arrays and floats to appease keras/tensorflow\n",
        "val_labs = np.array(val_labs, dtype = object).astype(np.float32)"
      ],
      "metadata": {
        "id": "HUxJXNlkSa7l"
      },
      "execution_count": 31,
      "outputs": []
    },
    {
      "cell_type": "code",
      "source": [
        "scores_test = model.evaluate(val_arrays, val_labs, verbose=2)\n",
        "print('\\nMSE: {}'.format(scores_test[1]))\n",
        "\n",
        "y_pred_test = model.predict(val_arrays)\n",
        "y_true_test = val_labs\n",
        "\n",
        "test_set = pd.DataFrame(y_pred_test)\n",
        "test_set.to_csv('/content/drive/My Drive/submit_test.csv', index = None)\n",
        "# Plot the predicted data vs. the actual data\n",
        "# we will limit our plot to the first 200 predictions for better visualization\n",
        "fig_verify = plt.figure(figsize=(10, 5))\n",
        "plt.plot(y_pred_test[-500:], label = 'Predicted Value')\n",
        "plt.plot(y_true_test[-500:], label = 'Actual Value')\n",
        "plt.title('Global Active Power Prediction - Last 500 Points', fontsize=22, fontweight='bold')\n",
        "plt.ylabel('value')\n",
        "plt.xlabel('row')\n",
        "plt.legend()\n",
        "plt.show()\n",
        "fig_verify.savefig(\"model_regression_verify.png\")"
      ],
      "metadata": {
        "colab": {
          "base_uri": "https://localhost:8080/",
          "height": 429
        },
        "id": "9OyIi_THS6ki",
        "outputId": "c4d00a0f-c162-4ec8-d575-2fbce46adfa6"
      },
      "execution_count": 32,
      "outputs": [
        {
          "output_type": "stream",
          "name": "stdout",
          "text": [
            "301/301 - 2s - loss: 48.1341 - mse: 48.1186 - 2s/epoch - 8ms/step\n",
            "\n",
            "MSE: 48.11856460571289\n",
            "301/301 [==============================] - 1s 2ms/step\n"
          ]
        },
        {
          "output_type": "display_data",
          "data": {
            "text/plain": [
              "<Figure size 720x360 with 1 Axes>"
            ],
            "image/png": "[encoded data removed]"
          },
          "metadata": {
            "needs_background": "light"
          }
        }
      ]
    },
    {
      "cell_type": "code",
      "source": [
        "sub = pd.merge(val_df, test_set, left_index = True, right_index = True)\n",
        "sub.to_csv('/content/drive/My Drive/projectlstm.csv')"
      ],
      "metadata": {
        "id": "ngJGQxbiZRBT"
      },
      "execution_count": 33,
      "outputs": []
    },
    {
      "cell_type": "markdown",
      "source": [
        "### Junction Prediction Using A Neural Network"
      ],
      "metadata": {
        "id": "hPbp0Gs1oYmC"
      }
    },
    {
      "cell_type": "markdown",
      "source": [
        "- do not use sigmoid in output layer, use softmax\n",
        "- or none at all in hidden layers"
      ],
      "metadata": {
        "id": "r6y_wZkJ5-Ti"
      }
    },
    {
      "cell_type": "code",
      "source": [
        "# One hot encouding junction\n",
        "one_hot_encoded = pd.get_dummies(df, columns=[\"Junction\"]) # Drop First?\n",
        "X = one_hot_encoded.drop(['Junction_1', 'Junction_2', 'Junction_3', 'Junction_4', 'DateTime'],axis=1)\n",
        "y = one_hot_encoded[['Junction_1', 'Junction_2', 'Junction_3', 'Junction_4']]"
      ],
      "metadata": {
        "id": "tF2HVK44oYLo"
      },
      "execution_count": 34,
      "outputs": []
    },
    {
      "cell_type": "code",
      "source": [
        "X.head()"
      ],
      "metadata": {
        "colab": {
          "base_uri": "https://localhost:8080/",
          "height": 206
        },
        "id": "mLEqpxp_tfmp",
        "outputId": "c3501694-80fa-4951-e972-547127bbbd55"
      },
      "execution_count": 35,
      "outputs": [
        {
          "output_type": "execute_result",
          "data": {
            "text/plain": [
              "   Vehicles  unix_time_column  Weekday  Year  Month  Day  Seconds  Week  \\\n",
              "0        15      1.446336e+09        6  2015     11    1        0    44   \n",
              "1        13      1.446340e+09        6  2015     11    1     3600    44   \n",
              "2        10      1.446343e+09        6  2015     11    1     7200    44   \n",
              "3         7      1.446347e+09        6  2015     11    1    10800    44   \n",
              "4         9      1.446350e+09        6  2015     11    1    14400    44   \n",
              "\n",
              "   Quarter  \n",
              "0        4  \n",
              "1        4  \n",
              "2        4  \n",
              "3        4  \n",
              "4        4  "
            ],
            "text/html": [
              "\n",
              "  <div id=\"df-c64d6a86-5002-4d93-81c9-7a943048e340\">\n",
              "    <div class=\"colab-df-container\">\n",
              "      <div>\n",
              "<style scoped>\n",
              "    .dataframe tbody tr th:only-of-type {\n",
              "        vertical-align: middle;\n",
              "    }\n",
              "\n",
              "    .dataframe tbody tr th {\n",
              "        vertical-align: top;\n",
              "    }\n",
              "\n",
              "    .dataframe thead th {\n",
              "        text-align: right;\n",
              "    }\n",
              "</style>\n",
              "<table border=\"1\" class=\"dataframe\">\n",
              "  <thead>\n",
              "    <tr style=\"text-align: right;\">\n",
              "      <th></th>\n",
              "      <th>Vehicles</th>\n",
              "      <th>unix_time_column</th>\n",
              "      <th>Weekday</th>\n",
              "      <th>Year</th>\n",
              "      <th>Month</th>\n",
              "      <th>Day</th>\n",
              "      <th>Seconds</th>\n",
              "      <th>Week</th>\n",
              "      <th>Quarter</th>\n",
              "    </tr>\n",
              "  </thead>\n",
              "  <tbody>\n",
              "    <tr>\n",
              "      <th>0</th>\n",
              "      <td>15</td>\n",
              "      <td>1.446336e+09</td>\n",
              "      <td>6</td>\n",
              "      <td>2015</td>\n",
              "      <td>11</td>\n",
              "      <td>1</td>\n",
              "      <td>0</td>\n",
              "      <td>44</td>\n",
              "      <td>4</td>\n",
              "    </tr>\n",
              "    <tr>\n",
              "      <th>1</th>\n",
              "      <td>13</td>\n",
              "      <td>1.446340e+09</td>\n",
              "      <td>6</td>\n",
              "      <td>2015</td>\n",
              "      <td>11</td>\n",
              "      <td>1</td>\n",
              "      <td>3600</td>\n",
              "      <td>44</td>\n",
              "      <td>4</td>\n",
              "    </tr>\n",
              "    <tr>\n",
              "      <th>2</th>\n",
              "      <td>10</td>\n",
              "      <td>1.446343e+09</td>\n",
              "      <td>6</td>\n",
              "      <td>2015</td>\n",
              "      <td>11</td>\n",
              "      <td>1</td>\n",
              "      <td>7200</td>\n",
              "      <td>44</td>\n",
              "      <td>4</td>\n",
              "    </tr>\n",
              "    <tr>\n",
              "      <th>3</th>\n",
              "      <td>7</td>\n",
              "      <td>1.446347e+09</td>\n",
              "      <td>6</td>\n",
              "      <td>2015</td>\n",
              "      <td>11</td>\n",
              "      <td>1</td>\n",
              "      <td>10800</td>\n",
              "      <td>44</td>\n",
              "      <td>4</td>\n",
              "    </tr>\n",
              "    <tr>\n",
              "      <th>4</th>\n",
              "      <td>9</td>\n",
              "      <td>1.446350e+09</td>\n",
              "      <td>6</td>\n",
              "      <td>2015</td>\n",
              "      <td>11</td>\n",
              "      <td>1</td>\n",
              "      <td>14400</td>\n",
              "      <td>44</td>\n",
              "      <td>4</td>\n",
              "    </tr>\n",
              "  </tbody>\n",
              "</table>\n",
              "</div>\n",
              "      <button class=\"colab-df-convert\" onclick=\"convertToInteractive('df-c64d6a86-5002-4d93-81c9-7a943048e340')\"\n",
              "              title=\"Convert this dataframe to an interactive table.\"\n",
              "              style=\"display:none;\">\n",
              "        \n",
              "  <svg xmlns=\"http://www.w3.org/2000/svg\" height=\"24px\"viewBox=\"0 0 24 24\"\n",
              "       width=\"24px\">\n",
              "    <path d=\"M0 0h24v24H0V0z\" fill=\"none\"/>\n",
              "    <path d=\"M18.56 5.44l.94 2.06.94-2.06 2.06-.94-2.06-.94-.94-2.06-.94 2.06-2.06.94zm-11 1L8.5 8.5l.94-2.06 2.06-.94-2.06-.94L8.5 2.5l-.94 2.06-2.06.94zm10 10l.94 2.06.94-2.06 2.06-.94-2.06-.94-.94-2.06-.94 2.06-2.06.94z\"/><path d=\"M17.41 7.96l-1.37-1.37c-.4-.4-.92-.59-1.43-.59-.52 0-1.04.2-1.43.59L10.3 9.45l-7.72 7.72c-.78.78-.78 2.05 0 2.83L4 21.41c.39.39.9.59 1.41.59.51 0 1.02-.2 1.41-.59l7.78-7.78 2.81-2.81c.8-.78.8-2.07 0-2.86zM5.41 20L4 18.59l7.72-7.72 1.47 1.35L5.41 20z\"/>\n",
              "  </svg>\n",
              "      </button>\n",
              "      \n",
              "  <style>\n",
              "    .colab-df-container {\n",
              "      display:flex;\n",
              "      flex-wrap:wrap;\n",
              "      gap: 12px;\n",
              "    }\n",
              "\n",
              "    .colab-df-convert {\n",
              "      background-color: #E8F0FE;\n",
              "      border: none;\n",
              "      border-radius: 50%;\n",
              "      cursor: pointer;\n",
              "      display: none;\n",
              "      fill: #1967D2;\n",
              "      height: 32px;\n",
              "      padding: 0 0 0 0;\n",
              "      width: 32px;\n",
              "    }\n",
              "\n",
              "    .colab-df-convert:hover {\n",
              "      background-color: #E2EBFA;\n",
              "      box-shadow: 0px 1px 2px rgba(60, 64, 67, 0.3), 0px 1px 3px 1px rgba(60, 64, 67, 0.15);\n",
              "      fill: #174EA6;\n",
              "    }\n",
              "\n",
              "    [theme=dark] .colab-df-convert {\n",
              "      background-color: #3B4455;\n",
              "      fill: #D2E3FC;\n",
              "    }\n",
              "\n",
              "    [theme=dark] .colab-df-convert:hover {\n",
              "      background-color: #434B5C;\n",
              "      box-shadow: 0px 1px 3px 1px rgba(0, 0, 0, 0.15);\n",
              "      filter: drop-shadow(0px 1px 2px rgba(0, 0, 0, 0.3));\n",
              "      fill: #FFFFFF;\n",
              "    }\n",
              "  </style>\n",
              "\n",
              "      <script>\n",
              "        const buttonEl =\n",
              "          document.querySelector('#df-c64d6a86-5002-4d93-81c9-7a943048e340 button.colab-df-convert');\n",
              "        buttonEl.style.display =\n",
              "          google.colab.kernel.accessAllowed ? 'block' : 'none';\n",
              "\n",
              "        async function convertToInteractive(key) {\n",
              "          const element = document.querySelector('#df-c64d6a86-5002-4d93-81c9-7a943048e340');\n",
              "          const dataTable =\n",
              "            await google.colab.kernel.invokeFunction('convertToInteractive',\n",
              "                                                     [key], {});\n",
              "          if (!dataTable) return;\n",
              "\n",
              "          const docLinkHtml = 'Like what you see? Visit the ' +\n",
              "            '<a target=\"_blank\" href=https://colab.research.google.com/notebooks/data_table.ipynb>data table notebook</a>'\n",
              "            + ' to learn more about interactive tables.';\n",
              "          element.innerHTML = '';\n",
              "          dataTable['output_type'] = 'display_data';\n",
              "          await google.colab.output.renderOutput(dataTable, element);\n",
              "          const docLink = document.createElement('div');\n",
              "          docLink.innerHTML = docLinkHtml;\n",
              "          element.appendChild(docLink);\n",
              "        }\n",
              "      </script>\n",
              "    </div>\n",
              "  </div>\n",
              "  "
            ]
          },
          "metadata": {},
          "execution_count": 35
        }
      ]
    },
    {
      "cell_type": "code",
      "source": [
        "y.head()"
      ],
      "metadata": {
        "colab": {
          "base_uri": "https://localhost:8080/",
          "height": 206
        },
        "id": "KPaGyxwGthjL",
        "outputId": "0ccfcaaa-a85f-4bee-ea08-ec5bec8d1566"
      },
      "execution_count": 36,
      "outputs": [
        {
          "output_type": "execute_result",
          "data": {
            "text/plain": [
              "   Junction_1  Junction_2  Junction_3  Junction_4\n",
              "0           1           0           0           0\n",
              "1           1           0           0           0\n",
              "2           1           0           0           0\n",
              "3           1           0           0           0\n",
              "4           1           0           0           0"
            ],
            "text/html": [
              "\n",
              "  <div id=\"df-23041615-9712-4de9-a693-5db403338327\">\n",
              "    <div class=\"colab-df-container\">\n",
              "      <div>\n",
              "<style scoped>\n",
              "    .dataframe tbody tr th:only-of-type {\n",
              "        vertical-align: middle;\n",
              "    }\n",
              "\n",
              "    .dataframe tbody tr th {\n",
              "        vertical-align: top;\n",
              "    }\n",
              "\n",
              "    .dataframe thead th {\n",
              "        text-align: right;\n",
              "    }\n",
              "</style>\n",
              "<table border=\"1\" class=\"dataframe\">\n",
              "  <thead>\n",
              "    <tr style=\"text-align: right;\">\n",
              "      <th></th>\n",
              "      <th>Junction_1</th>\n",
              "      <th>Junction_2</th>\n",
              "      <th>Junction_3</th>\n",
              "      <th>Junction_4</th>\n",
              "    </tr>\n",
              "  </thead>\n",
              "  <tbody>\n",
              "    <tr>\n",
              "      <th>0</th>\n",
              "      <td>1</td>\n",
              "      <td>0</td>\n",
              "      <td>0</td>\n",
              "      <td>0</td>\n",
              "    </tr>\n",
              "    <tr>\n",
              "      <th>1</th>\n",
              "      <td>1</td>\n",
              "      <td>0</td>\n",
              "      <td>0</td>\n",
              "      <td>0</td>\n",
              "    </tr>\n",
              "    <tr>\n",
              "      <th>2</th>\n",
              "      <td>1</td>\n",
              "      <td>0</td>\n",
              "      <td>0</td>\n",
              "      <td>0</td>\n",
              "    </tr>\n",
              "    <tr>\n",
              "      <th>3</th>\n",
              "      <td>1</td>\n",
              "      <td>0</td>\n",
              "      <td>0</td>\n",
              "      <td>0</td>\n",
              "    </tr>\n",
              "    <tr>\n",
              "      <th>4</th>\n",
              "      <td>1</td>\n",
              "      <td>0</td>\n",
              "      <td>0</td>\n",
              "      <td>0</td>\n",
              "    </tr>\n",
              "  </tbody>\n",
              "</table>\n",
              "</div>\n",
              "      <button class=\"colab-df-convert\" onclick=\"convertToInteractive('df-23041615-9712-4de9-a693-5db403338327')\"\n",
              "              title=\"Convert this dataframe to an interactive table.\"\n",
              "              style=\"display:none;\">\n",
              "        \n",
              "  <svg xmlns=\"http://www.w3.org/2000/svg\" height=\"24px\"viewBox=\"0 0 24 24\"\n",
              "       width=\"24px\">\n",
              "    <path d=\"M0 0h24v24H0V0z\" fill=\"none\"/>\n",
              "    <path d=\"M18.56 5.44l.94 2.06.94-2.06 2.06-.94-2.06-.94-.94-2.06-.94 2.06-2.06.94zm-11 1L8.5 8.5l.94-2.06 2.06-.94-2.06-.94L8.5 2.5l-.94 2.06-2.06.94zm10 10l.94 2.06.94-2.06 2.06-.94-2.06-.94-.94-2.06-.94 2.06-2.06.94z\"/><path d=\"M17.41 7.96l-1.37-1.37c-.4-.4-.92-.59-1.43-.59-.52 0-1.04.2-1.43.59L10.3 9.45l-7.72 7.72c-.78.78-.78 2.05 0 2.83L4 21.41c.39.39.9.59 1.41.59.51 0 1.02-.2 1.41-.59l7.78-7.78 2.81-2.81c.8-.78.8-2.07 0-2.86zM5.41 20L4 18.59l7.72-7.72 1.47 1.35L5.41 20z\"/>\n",
              "  </svg>\n",
              "      </button>\n",
              "      \n",
              "  <style>\n",
              "    .colab-df-container {\n",
              "      display:flex;\n",
              "      flex-wrap:wrap;\n",
              "      gap: 12px;\n",
              "    }\n",
              "\n",
              "    .colab-df-convert {\n",
              "      background-color: #E8F0FE;\n",
              "      border: none;\n",
              "      border-radius: 50%;\n",
              "      cursor: pointer;\n",
              "      display: none;\n",
              "      fill: #1967D2;\n",
              "      height: 32px;\n",
              "      padding: 0 0 0 0;\n",
              "      width: 32px;\n",
              "    }\n",
              "\n",
              "    .colab-df-convert:hover {\n",
              "      background-color: #E2EBFA;\n",
              "      box-shadow: 0px 1px 2px rgba(60, 64, 67, 0.3), 0px 1px 3px 1px rgba(60, 64, 67, 0.15);\n",
              "      fill: #174EA6;\n",
              "    }\n",
              "\n",
              "    [theme=dark] .colab-df-convert {\n",
              "      background-color: #3B4455;\n",
              "      fill: #D2E3FC;\n",
              "    }\n",
              "\n",
              "    [theme=dark] .colab-df-convert:hover {\n",
              "      background-color: #434B5C;\n",
              "      box-shadow: 0px 1px 3px 1px rgba(0, 0, 0, 0.15);\n",
              "      filter: drop-shadow(0px 1px 2px rgba(0, 0, 0, 0.3));\n",
              "      fill: #FFFFFF;\n",
              "    }\n",
              "  </style>\n",
              "\n",
              "      <script>\n",
              "        const buttonEl =\n",
              "          document.querySelector('#df-23041615-9712-4de9-a693-5db403338327 button.colab-df-convert');\n",
              "        buttonEl.style.display =\n",
              "          google.colab.kernel.accessAllowed ? 'block' : 'none';\n",
              "\n",
              "        async function convertToInteractive(key) {\n",
              "          const element = document.querySelector('#df-23041615-9712-4de9-a693-5db403338327');\n",
              "          const dataTable =\n",
              "            await google.colab.kernel.invokeFunction('convertToInteractive',\n",
              "                                                     [key], {});\n",
              "          if (!dataTable) return;\n",
              "\n",
              "          const docLinkHtml = 'Like what you see? Visit the ' +\n",
              "            '<a target=\"_blank\" href=https://colab.research.google.com/notebooks/data_table.ipynb>data table notebook</a>'\n",
              "            + ' to learn more about interactive tables.';\n",
              "          element.innerHTML = '';\n",
              "          dataTable['output_type'] = 'display_data';\n",
              "          await google.colab.output.renderOutput(dataTable, element);\n",
              "          const docLink = document.createElement('div');\n",
              "          docLink.innerHTML = docLinkHtml;\n",
              "          element.appendChild(docLink);\n",
              "        }\n",
              "      </script>\n",
              "    </div>\n",
              "  </div>\n",
              "  "
            ]
          },
          "metadata": {},
          "execution_count": 36
        }
      ]
    },
    {
      "cell_type": "code",
      "source": [
        "X_large, X_test, y_large, y_test = train_test_split(X,y, test_size = 0.2, random_state = 42,shuffle = True)"
      ],
      "metadata": {
        "id": "X2jHtlMP3HIr"
      },
      "execution_count": 37,
      "outputs": []
    },
    {
      "cell_type": "code",
      "source": [
        "X_train, X_val, y_train, y_val = train_test_split(X,y, test_size = 0.2, random_state = 42, shuffle = True)"
      ],
      "metadata": {
        "id": "y7D4ur_Stuwh"
      },
      "execution_count": 38,
      "outputs": []
    },
    {
      "cell_type": "markdown",
      "source": [
        "### NN Model 1 (No sampling)"
      ],
      "metadata": {
        "id": "JCtrljhYslrB"
      }
    },
    {
      "cell_type": "code",
      "source": [
        "#Initializing the neural network\n",
        "model_1 = Sequential()\n",
        "#Adding the input layer with 32 neurons and relu as activation function\n",
        "model_1.add(Dense(16,activation='relu',input_dim = 9))\n",
        "# Adding dropout with ratio of 0.2\n",
        "model_1.add(Dropout(0.2))\n",
        "# Adding the first hidden layer with 16 neurons with relu as activation functions\n",
        "model_1.add(Dense(8,activation='softmax'))\n",
        "# Adding dropout with ratio of 0.1\n",
        "model_1.add(Dropout(0.1))\n",
        "# Adding the second hidden layer with 8 neurons with relu as activation functions\n",
        "model_1.add(Dense(4,activation='softmax'))"
      ],
      "metadata": {
        "id": "SVCQTKdVskmz"
      },
      "execution_count": 39,
      "outputs": []
    },
    {
      "cell_type": "code",
      "source": [
        "# Summary of the model\n",
        "model_1.summary()"
      ],
      "metadata": {
        "colab": {
          "base_uri": "https://localhost:8080/"
        },
        "id": "Id1aZG_gstRG",
        "outputId": "0d920b42-9b03-482b-b915-7b481eaac8d1"
      },
      "execution_count": 40,
      "outputs": [
        {
          "output_type": "stream",
          "name": "stdout",
          "text": [
            "Model: \"sequential_1\"\n",
            "_________________________________________________________________\n",
            " Layer (type)                Output Shape              Param #   \n",
            "=================================================================\n",
            " dense_1 (Dense)             (None, 16)                160       \n",
            "                                                                 \n",
            " dropout_2 (Dropout)         (None, 16)                0         \n",
            "                                                                 \n",
            " dense_2 (Dense)             (None, 8)                 136       \n",
            "                                                                 \n",
            " dropout_3 (Dropout)         (None, 8)                 0         \n",
            "                                                                 \n",
            " dense_3 (Dense)             (None, 4)                 36        \n",
            "                                                                 \n",
            "=================================================================\n",
            "Total params: 332\n",
            "Trainable params: 332\n",
            "Non-trainable params: 0\n",
            "_________________________________________________________________\n"
          ]
        }
      ]
    },
    {
      "cell_type": "code",
      "source": [
        "#Compiling the ANN with Adam optimizer \n",
        "optimizer = tf.keras.optimizers.Adam(0.01)\n",
        "# Complining the model with binary cross entropy as loss function and accuracy as metrics\n",
        "model_1.compile(loss='binary_crossentropy',optimizer=optimizer,metrics=['mse'])"
      ],
      "metadata": {
        "id": "UELtZQXSs24Y"
      },
      "execution_count": 41,
      "outputs": []
    },
    {
      "cell_type": "code",
      "source": [
        "#Fitting the ANN with batch_size = 32 and 100 epochs \n",
        "history_1 = model_1.fit(X_train,y_train,batch_size=32,epochs=30,verbose=1, validation_data=(X_val,y_val))"
      ],
      "metadata": {
        "colab": {
          "base_uri": "https://localhost:8080/"
        },
        "id": "odbgpPaRs5BH",
        "outputId": "da49f8f7-c948-4470-a0b7-e6e096527f9d"
      },
      "execution_count": 42,
      "outputs": [
        {
          "output_type": "stream",
          "name": "stdout",
          "text": [
            "Epoch 1/30\n",
            "1203/1203 [==============================] - 6s 4ms/step - loss: 0.5457 - mse: 0.1808 - val_loss: 0.5368 - val_mse: 0.1797\n",
            "Epoch 2/30\n",
            "1203/1203 [==============================] - 5s 4ms/step - loss: 0.5367 - mse: 0.1795 - val_loss: 0.5364 - val_mse: 0.1793\n",
            "Epoch 3/30\n",
            "1203/1203 [==============================] - 4s 3ms/step - loss: 0.5365 - mse: 0.1795 - val_loss: 0.5366 - val_mse: 0.1794\n",
            "Epoch 4/30\n",
            "1203/1203 [==============================] - 4s 3ms/step - loss: 0.5363 - mse: 0.1794 - val_loss: 0.5363 - val_mse: 0.1793\n",
            "Epoch 5/30\n",
            "1203/1203 [==============================] - 5s 4ms/step - loss: 0.5364 - mse: 0.1795 - val_loss: 0.5365 - val_mse: 0.1794\n",
            "Epoch 6/30\n",
            "1203/1203 [==============================] - 4s 3ms/step - loss: 0.5363 - mse: 0.1794 - val_loss: 0.5364 - val_mse: 0.1792\n",
            "Epoch 7/30\n",
            "1203/1203 [==============================] - 4s 3ms/step - loss: 0.5365 - mse: 0.1795 - val_loss: 0.5365 - val_mse: 0.1795\n",
            "Epoch 8/30\n",
            "1203/1203 [==============================] - 5s 4ms/step - loss: 0.5365 - mse: 0.1795 - val_loss: 0.5369 - val_mse: 0.1797\n",
            "Epoch 9/30\n",
            "1203/1203 [==============================] - 4s 3ms/step - loss: 0.5365 - mse: 0.1795 - val_loss: 0.5364 - val_mse: 0.1792\n",
            "Epoch 10/30\n",
            "1203/1203 [==============================] - 4s 3ms/step - loss: 0.5363 - mse: 0.1795 - val_loss: 0.5371 - val_mse: 0.1799\n",
            "Epoch 11/30\n",
            "1203/1203 [==============================] - 5s 4ms/step - loss: 0.5363 - mse: 0.1794 - val_loss: 0.5393 - val_mse: 0.1817\n",
            "Epoch 12/30\n",
            "1203/1203 [==============================] - 4s 4ms/step - loss: 0.5364 - mse: 0.1795 - val_loss: 0.5364 - val_mse: 0.1793\n",
            "Epoch 13/30\n",
            "1203/1203 [==============================] - 4s 3ms/step - loss: 0.5364 - mse: 0.1795 - val_loss: 0.5366 - val_mse: 0.1794\n",
            "Epoch 14/30\n",
            "1203/1203 [==============================] - 5s 4ms/step - loss: 0.5364 - mse: 0.1795 - val_loss: 0.5365 - val_mse: 0.1794\n",
            "Epoch 15/30\n",
            "1203/1203 [==============================] - 4s 3ms/step - loss: 0.5364 - mse: 0.1795 - val_loss: 0.5367 - val_mse: 0.1796\n",
            "Epoch 16/30\n",
            "1203/1203 [==============================] - 4s 3ms/step - loss: 0.5364 - mse: 0.1795 - val_loss: 0.5365 - val_mse: 0.1794\n",
            "Epoch 17/30\n",
            "1203/1203 [==============================] - 5s 4ms/step - loss: 0.5365 - mse: 0.1795 - val_loss: 0.5364 - val_mse: 0.1793\n",
            "Epoch 18/30\n",
            "1203/1203 [==============================] - 4s 4ms/step - loss: 0.5365 - mse: 0.1795 - val_loss: 0.5378 - val_mse: 0.1806\n",
            "Epoch 19/30\n",
            "1203/1203 [==============================] - 4s 3ms/step - loss: 0.5364 - mse: 0.1795 - val_loss: 0.5372 - val_mse: 0.1798\n",
            "Epoch 20/30\n",
            "1203/1203 [==============================] - 5s 4ms/step - loss: 0.5365 - mse: 0.1795 - val_loss: 0.5368 - val_mse: 0.1797\n",
            "Epoch 21/30\n",
            "1203/1203 [==============================] - 4s 3ms/step - loss: 0.5364 - mse: 0.1795 - val_loss: 0.5365 - val_mse: 0.1791\n",
            "Epoch 22/30\n",
            "1203/1203 [==============================] - 4s 3ms/step - loss: 0.5364 - mse: 0.1795 - val_loss: 0.5363 - val_mse: 0.1792\n",
            "Epoch 23/30\n",
            "1203/1203 [==============================] - 5s 4ms/step - loss: 0.5363 - mse: 0.1794 - val_loss: 0.5364 - val_mse: 0.1792\n",
            "Epoch 24/30\n",
            "1203/1203 [==============================] - 4s 3ms/step - loss: 0.5365 - mse: 0.1795 - val_loss: 0.5364 - val_mse: 0.1794\n",
            "Epoch 25/30\n",
            "1203/1203 [==============================] - 4s 3ms/step - loss: 0.5364 - mse: 0.1795 - val_loss: 0.5367 - val_mse: 0.1795\n",
            "Epoch 26/30\n",
            "1203/1203 [==============================] - 5s 4ms/step - loss: 0.5365 - mse: 0.1795 - val_loss: 0.5373 - val_mse: 0.1801\n",
            "Epoch 27/30\n",
            "1203/1203 [==============================] - 4s 3ms/step - loss: 0.5365 - mse: 0.1795 - val_loss: 0.5363 - val_mse: 0.1792\n",
            "Epoch 28/30\n",
            "1203/1203 [==============================] - 4s 3ms/step - loss: 0.5364 - mse: 0.1795 - val_loss: 0.5366 - val_mse: 0.1796\n",
            "Epoch 29/30\n",
            "1203/1203 [==============================] - 5s 5ms/step - loss: 0.5365 - mse: 0.1795 - val_loss: 0.5364 - val_mse: 0.1793\n",
            "Epoch 30/30\n",
            "1203/1203 [==============================] - 4s 3ms/step - loss: 0.5364 - mse: 0.1795 - val_loss: 0.5363 - val_mse: 0.1792\n"
          ]
        }
      ]
    },
    {
      "cell_type": "code",
      "source": [
        "#Plotting Train Loss vs Validation Loss\n",
        "plt.plot(history_1.history['loss'])\n",
        "plt.plot(history_1.history['val_loss'])\n",
        "plt.title('model loss')\n",
        "plt.ylabel('Loss')\n",
        "plt.xlabel('Epoch')\n",
        "plt.legend(['train', 'validation'], loc='upper left')\n",
        "plt.show()"
      ],
      "metadata": {
        "colab": {
          "base_uri": "https://localhost:8080/",
          "height": 295
        },
        "id": "EVAI05mzs-yG",
        "outputId": "3e49b97a-7817-474b-c3d9-3198da636792"
      },
      "execution_count": 43,
      "outputs": [
        {
          "output_type": "display_data",
          "data": {
            "text/plain": [
              "<Figure size 432x288 with 1 Axes>"
            ],
            "image/png": "[encoded data removed]"
          },
          "metadata": {
            "needs_background": "light"
          }
        }
      ]
    },
    {
      "cell_type": "code",
      "source": [
        "results = model_1.evaluate(X_test, y_test)"
      ],
      "metadata": {
        "colab": {
          "base_uri": "https://localhost:8080/"
        },
        "id": "JVALuuIE2Cl-",
        "outputId": "b437eecc-3753-4866-bca4-8f2202f80795"
      },
      "execution_count": 44,
      "outputs": [
        {
          "output_type": "stream",
          "name": "stdout",
          "text": [
            "301/301 [==============================] - 1s 2ms/step - loss: 0.5363 - mse: 0.1792\n"
          ]
        }
      ]
    },
    {
      "cell_type": "markdown",
      "source": [
        "- ROC? is binary dont use it\n",
        "- CM? no not easy to look at\n",
        "- How?\n",
        "- Show metrics!! no graph\n",
        "- how to print macro f1, macro aucroc from sklearnmetrics\n",
        "- macro is avg of how the model performs on each label of outcome"
      ],
      "metadata": {
        "id": "DTyhJvgr2mC8"
      }
    },
    {
      "cell_type": "markdown",
      "source": [
        "### NN Model 2 (Oversampling)"
      ],
      "metadata": {
        "id": "ouBHh9pss4Pf"
      }
    },
    {
      "cell_type": "code",
      "source": [
        "y_train.head()"
      ],
      "metadata": {
        "colab": {
          "base_uri": "https://localhost:8080/",
          "height": 206
        },
        "id": "_O8eNkBax05r",
        "outputId": "bf15ef84-7f90-4c9d-cfa5-bec4c08872d3"
      },
      "execution_count": 45,
      "outputs": [
        {
          "output_type": "execute_result",
          "data": {
            "text/plain": [
              "       Junction_1  Junction_2  Junction_3  Junction_4\n",
              "30256           0           0           1           0\n",
              "30018           0           0           1           0\n",
              "33134           0           0           1           0\n",
              "38627           0           0           1           0\n",
              "16658           0           1           0           0"
            ],
            "text/html": [
              "\n",
              "  <div id=\"df-bb03ed4c-fd14-4792-93cf-1c56751b8339\">\n",
              "    <div class=\"colab-df-container\">\n",
              "      <div>\n",
              "<style scoped>\n",
              "    .dataframe tbody tr th:only-of-type {\n",
              "        vertical-align: middle;\n",
              "    }\n",
              "\n",
              "    .dataframe tbody tr th {\n",
              "        vertical-align: top;\n",
              "    }\n",
              "\n",
              "    .dataframe thead th {\n",
              "        text-align: right;\n",
              "    }\n",
              "</style>\n",
              "<table border=\"1\" class=\"dataframe\">\n",
              "  <thead>\n",
              "    <tr style=\"text-align: right;\">\n",
              "      <th></th>\n",
              "      <th>Junction_1</th>\n",
              "      <th>Junction_2</th>\n",
              "      <th>Junction_3</th>\n",
              "      <th>Junction_4</th>\n",
              "    </tr>\n",
              "  </thead>\n",
              "  <tbody>\n",
              "    <tr>\n",
              "      <th>30256</th>\n",
              "      <td>0</td>\n",
              "      <td>0</td>\n",
              "      <td>1</td>\n",
              "      <td>0</td>\n",
              "    </tr>\n",
              "    <tr>\n",
              "      <th>30018</th>\n",
              "      <td>0</td>\n",
              "      <td>0</td>\n",
              "      <td>1</td>\n",
              "      <td>0</td>\n",
              "    </tr>\n",
              "    <tr>\n",
              "      <th>33134</th>\n",
              "      <td>0</td>\n",
              "      <td>0</td>\n",
              "      <td>1</td>\n",
              "      <td>0</td>\n",
              "    </tr>\n",
              "    <tr>\n",
              "      <th>38627</th>\n",
              "      <td>0</td>\n",
              "      <td>0</td>\n",
              "      <td>1</td>\n",
              "      <td>0</td>\n",
              "    </tr>\n",
              "    <tr>\n",
              "      <th>16658</th>\n",
              "      <td>0</td>\n",
              "      <td>1</td>\n",
              "      <td>0</td>\n",
              "      <td>0</td>\n",
              "    </tr>\n",
              "  </tbody>\n",
              "</table>\n",
              "</div>\n",
              "      <button class=\"colab-df-convert\" onclick=\"convertToInteractive('df-bb03ed4c-fd14-4792-93cf-1c56751b8339')\"\n",
              "              title=\"Convert this dataframe to an interactive table.\"\n",
              "              style=\"display:none;\">\n",
              "        \n",
              "  <svg xmlns=\"http://www.w3.org/2000/svg\" height=\"24px\"viewBox=\"0 0 24 24\"\n",
              "       width=\"24px\">\n",
              "    <path d=\"M0 0h24v24H0V0z\" fill=\"none\"/>\n",
              "    <path d=\"M18.56 5.44l.94 2.06.94-2.06 2.06-.94-2.06-.94-.94-2.06-.94 2.06-2.06.94zm-11 1L8.5 8.5l.94-2.06 2.06-.94-2.06-.94L8.5 2.5l-.94 2.06-2.06.94zm10 10l.94 2.06.94-2.06 2.06-.94-2.06-.94-.94-2.06-.94 2.06-2.06.94z\"/><path d=\"M17.41 7.96l-1.37-1.37c-.4-.4-.92-.59-1.43-.59-.52 0-1.04.2-1.43.59L10.3 9.45l-7.72 7.72c-.78.78-.78 2.05 0 2.83L4 21.41c.39.39.9.59 1.41.59.51 0 1.02-.2 1.41-.59l7.78-7.78 2.81-2.81c.8-.78.8-2.07 0-2.86zM5.41 20L4 18.59l7.72-7.72 1.47 1.35L5.41 20z\"/>\n",
              "  </svg>\n",
              "      </button>\n",
              "      \n",
              "  <style>\n",
              "    .colab-df-container {\n",
              "      display:flex;\n",
              "      flex-wrap:wrap;\n",
              "      gap: 12px;\n",
              "    }\n",
              "\n",
              "    .colab-df-convert {\n",
              "      background-color: #E8F0FE;\n",
              "      border: none;\n",
              "      border-radius: 50%;\n",
              "      cursor: pointer;\n",
              "      display: none;\n",
              "      fill: #1967D2;\n",
              "      height: 32px;\n",
              "      padding: 0 0 0 0;\n",
              "      width: 32px;\n",
              "    }\n",
              "\n",
              "    .colab-df-convert:hover {\n",
              "      background-color: #E2EBFA;\n",
              "      box-shadow: 0px 1px 2px rgba(60, 64, 67, 0.3), 0px 1px 3px 1px rgba(60, 64, 67, 0.15);\n",
              "      fill: #174EA6;\n",
              "    }\n",
              "\n",
              "    [theme=dark] .colab-df-convert {\n",
              "      background-color: #3B4455;\n",
              "      fill: #D2E3FC;\n",
              "    }\n",
              "\n",
              "    [theme=dark] .colab-df-convert:hover {\n",
              "      background-color: #434B5C;\n",
              "      box-shadow: 0px 1px 3px 1px rgba(0, 0, 0, 0.15);\n",
              "      filter: drop-shadow(0px 1px 2px rgba(0, 0, 0, 0.3));\n",
              "      fill: #FFFFFF;\n",
              "    }\n",
              "  </style>\n",
              "\n",
              "      <script>\n",
              "        const buttonEl =\n",
              "          document.querySelector('#df-bb03ed4c-fd14-4792-93cf-1c56751b8339 button.colab-df-convert');\n",
              "        buttonEl.style.display =\n",
              "          google.colab.kernel.accessAllowed ? 'block' : 'none';\n",
              "\n",
              "        async function convertToInteractive(key) {\n",
              "          const element = document.querySelector('#df-bb03ed4c-fd14-4792-93cf-1c56751b8339');\n",
              "          const dataTable =\n",
              "            await google.colab.kernel.invokeFunction('convertToInteractive',\n",
              "                                                     [key], {});\n",
              "          if (!dataTable) return;\n",
              "\n",
              "          const docLinkHtml = 'Like what you see? Visit the ' +\n",
              "            '<a target=\"_blank\" href=https://colab.research.google.com/notebooks/data_table.ipynb>data table notebook</a>'\n",
              "            + ' to learn more about interactive tables.';\n",
              "          element.innerHTML = '';\n",
              "          dataTable['output_type'] = 'display_data';\n",
              "          await google.colab.output.renderOutput(dataTable, element);\n",
              "          const docLink = document.createElement('div');\n",
              "          docLink.innerHTML = docLinkHtml;\n",
              "          element.appendChild(docLink);\n",
              "        }\n",
              "      </script>\n",
              "    </div>\n",
              "  </div>\n",
              "  "
            ]
          },
          "metadata": {},
          "execution_count": 45
        }
      ]
    },
    {
      "cell_type": "code",
      "source": [
        "# convert y_train to a numpy array\n",
        "y_train_np = np.array(y_train)"
      ],
      "metadata": {
        "id": "kAit2Sdf6bFe"
      },
      "execution_count": 46,
      "outputs": []
    },
    {
      "cell_type": "markdown",
      "source": [
        "- maybe try not smote oversampling just regular"
      ],
      "metadata": {
        "id": "DWvQCeHx8HTZ"
      }
    },
    {
      "cell_type": "code",
      "source": [
        "# Fit SMOTE on train data(Synthetic Minority Oversampling Technique)\n",
        "sm = SMOTE(\"minority\")\n",
        "X_train_over, y_train_over = sm.fit_resample(X_train, y_train_np)"
      ],
      "metadata": {
        "colab": {
          "base_uri": "https://localhost:8080/"
        },
        "id": "VsFH1UeVIMoU",
        "outputId": "44399361-2d40-46be-bcfa-34c004e0dd67"
      },
      "execution_count": 47,
      "outputs": [
        {
          "output_type": "stream",
          "name": "stderr",
          "text": [
            "/usr/local/lib/python3.8/dist-packages/imblearn/utils/_validation.py:587: FutureWarning: Pass sampling_strategy=minority as keyword args. From version 0.9 passing these as positional arguments will result in an error\n",
            "  warnings.warn(\n"
          ]
        }
      ]
    },
    {
      "cell_type": "code",
      "source": [
        "print(\"Before OverSampling, count of junction 1-4': {}\".format(sum(y_train_np == 1)))\n",
        "\n",
        "print(\"After OverSampling, count of junction 1-4': {}\".format(sum(y_train_over == 1)))\n",
        "\n",
        "print(\"After OverSampling, the shape of train_X: {}\".format(X_train_over.shape))\n",
        "print(\"After OverSampling, the shape of train_y: {} \\n\".format(y_train_over.shape))"
      ],
      "metadata": {
        "colab": {
          "base_uri": "https://localhost:8080/"
        },
        "id": "QbN8l6KSIQAA",
        "outputId": "42da7b27-18d8-4ffc-fa77-7a30c13a86b3"
      },
      "execution_count": 48,
      "outputs": [
        {
          "output_type": "stream",
          "name": "stdout",
          "text": [
            "Before OverSampling, count of junction 1-4': [11664 11655 11710  3467]\n",
            "After OverSampling, count of junction 1-4': [11664 11655 11710 11710]\n",
            "After OverSampling, the shape of train_X: (46739, 9)\n",
            "After OverSampling, the shape of train_y: (46739, 4) \n",
            "\n"
          ]
        }
      ]
    },
    {
      "cell_type": "code",
      "source": [
        "X_train_over.head(20)"
      ],
      "metadata": {
        "colab": {
          "base_uri": "https://localhost:8080/",
          "height": 676
        },
        "id": "1GQbvxdD7bFd",
        "outputId": "5764604f-cdb1-441c-be69-9cac381a50a4"
      },
      "execution_count": 49,
      "outputs": [
        {
          "output_type": "execute_result",
          "data": {
            "text/plain": [
              "    Vehicles  unix_time_column  Weekday  Year  Month  Day  Seconds  Week  \\\n",
              "0          5      1.450195e+09        1  2015     12   15    57600    51   \n",
              "1          1      1.449338e+09        5  2015     12    5    64800    49   \n",
              "2         18      1.460556e+09        2  2016      4   13    50400    15   \n",
              "3         21      1.480331e+09        0  2016     11   28    39600    48   \n",
              "4         12      1.453774e+09        1  2016      1   26     7200     4   \n",
              "5         19      1.473444e+09        4  2016      9    9    64800    36   \n",
              "6         34      1.450703e+09        0  2015     12   21    46800    52   \n",
              "7         11      1.457539e+09        2  2016      3    9    57600    10   \n",
              "8         22      1.487639e+09        1  2017      2   21     3600     8   \n",
              "9         23      1.492679e+09        3  2017      4   20    32400    16   \n",
              "10        20      1.491210e+09        0  2017      4    3    32400    14   \n",
              "11         7      1.450793e+09        1  2015     12   22    50400    52   \n",
              "12         9      1.457827e+09        6  2016      3   13        0    10   \n",
              "13        62      1.494799e+09        6  2017      5   14    79200    19   \n",
              "14        15      1.481296e+09        4  2016     12    9    54000    49   \n",
              "15        40      1.492830e+09        5  2017      4   22    10800    16   \n",
              "16         5      1.493780e+09        2  2017      5    3    10800    18   \n",
              "17        39      1.494958e+09        1  2017      5   16    64800    20   \n",
              "18        17      1.497424e+09        2  2017      6   14    25200    24   \n",
              "19        24      1.484525e+09        0  2017      1   16        0     3   \n",
              "\n",
              "    Quarter  \n",
              "0         4  \n",
              "1         4  \n",
              "2         2  \n",
              "3         4  \n",
              "4         1  \n",
              "5         3  \n",
              "6         4  \n",
              "7         1  \n",
              "8         1  \n",
              "9         2  \n",
              "10        2  \n",
              "11        4  \n",
              "12        1  \n",
              "13        2  \n",
              "14        4  \n",
              "15        2  \n",
              "16        2  \n",
              "17        2  \n",
              "18        2  \n",
              "19        1  "
            ],
            "text/html": [
              "\n",
              "  <div id=\"df-b9451825-5abe-47a8-ace3-783b2b32e07b\">\n",
              "    <div class=\"colab-df-container\">\n",
              "      <div>\n",
              "<style scoped>\n",
              "    .dataframe tbody tr th:only-of-type {\n",
              "        vertical-align: middle;\n",
              "    }\n",
              "\n",
              "    .dataframe tbody tr th {\n",
              "        vertical-align: top;\n",
              "    }\n",
              "\n",
              "    .dataframe thead th {\n",
              "        text-align: right;\n",
              "    }\n",
              "</style>\n",
              "<table border=\"1\" class=\"dataframe\">\n",
              "  <thead>\n",
              "    <tr style=\"text-align: right;\">\n",
              "      <th></th>\n",
              "      <th>Vehicles</th>\n",
              "      <th>unix_time_column</th>\n",
              "      <th>Weekday</th>\n",
              "      <th>Year</th>\n",
              "      <th>Month</th>\n",
              "      <th>Day</th>\n",
              "      <th>Seconds</th>\n",
              "      <th>Week</th>\n",
              "      <th>Quarter</th>\n",
              "    </tr>\n",
              "  </thead>\n",
              "  <tbody>\n",
              "    <tr>\n",
              "      <th>0</th>\n",
              "      <td>5</td>\n",
              "      <td>1.450195e+09</td>\n",
              "      <td>1</td>\n",
              "      <td>2015</td>\n",
              "      <td>12</td>\n",
              "      <td>15</td>\n",
              "      <td>57600</td>\n",
              "      <td>51</td>\n",
              "      <td>4</td>\n",
              "    </tr>\n",
              "    <tr>\n",
              "      <th>1</th>\n",
              "      <td>1</td>\n",
              "      <td>1.449338e+09</td>\n",
              "      <td>5</td>\n",
              "      <td>2015</td>\n",
              "      <td>12</td>\n",
              "      <td>5</td>\n",
              "      <td>64800</td>\n",
              "      <td>49</td>\n",
              "      <td>4</td>\n",
              "    </tr>\n",
              "    <tr>\n",
              "      <th>2</th>\n",
              "      <td>18</td>\n",
              "      <td>1.460556e+09</td>\n",
              "      <td>2</td>\n",
              "      <td>2016</td>\n",
              "      <td>4</td>\n",
              "      <td>13</td>\n",
              "      <td>50400</td>\n",
              "      <td>15</td>\n",
              "      <td>2</td>\n",
              "    </tr>\n",
              "    <tr>\n",
              "      <th>3</th>\n",
              "      <td>21</td>\n",
              "      <td>1.480331e+09</td>\n",
              "      <td>0</td>\n",
              "      <td>2016</td>\n",
              "      <td>11</td>\n",
              "      <td>28</td>\n",
              "      <td>39600</td>\n",
              "      <td>48</td>\n",
              "      <td>4</td>\n",
              "    </tr>\n",
              "    <tr>\n",
              "      <th>4</th>\n",
              "      <td>12</td>\n",
              "      <td>1.453774e+09</td>\n",
              "      <td>1</td>\n",
              "      <td>2016</td>\n",
              "      <td>1</td>\n",
              "      <td>26</td>\n",
              "      <td>7200</td>\n",
              "      <td>4</td>\n",
              "      <td>1</td>\n",
              "    </tr>\n",
              "    <tr>\n",
              "      <th>5</th>\n",
              "      <td>19</td>\n",
              "      <td>1.473444e+09</td>\n",
              "      <td>4</td>\n",
              "      <td>2016</td>\n",
              "      <td>9</td>\n",
              "      <td>9</td>\n",
              "      <td>64800</td>\n",
              "      <td>36</td>\n",
              "      <td>3</td>\n",
              "    </tr>\n",
              "    <tr>\n",
              "      <th>6</th>\n",
              "      <td>34</td>\n",
              "      <td>1.450703e+09</td>\n",
              "      <td>0</td>\n",
              "      <td>2015</td>\n",
              "      <td>12</td>\n",
              "      <td>21</td>\n",
              "      <td>46800</td>\n",
              "      <td>52</td>\n",
              "      <td>4</td>\n",
              "    </tr>\n",
              "    <tr>\n",
              "      <th>7</th>\n",
              "      <td>11</td>\n",
              "      <td>1.457539e+09</td>\n",
              "      <td>2</td>\n",
              "      <td>2016</td>\n",
              "      <td>3</td>\n",
              "      <td>9</td>\n",
              "      <td>57600</td>\n",
              "      <td>10</td>\n",
              "      <td>1</td>\n",
              "    </tr>\n",
              "    <tr>\n",
              "      <th>8</th>\n",
              "      <td>22</td>\n",
              "      <td>1.487639e+09</td>\n",
              "      <td>1</td>\n",
              "      <td>2017</td>\n",
              "      <td>2</td>\n",
              "      <td>21</td>\n",
              "      <td>3600</td>\n",
              "      <td>8</td>\n",
              "      <td>1</td>\n",
              "    </tr>\n",
              "    <tr>\n",
              "      <th>9</th>\n",
              "      <td>23</td>\n",
              "      <td>1.492679e+09</td>\n",
              "      <td>3</td>\n",
              "      <td>2017</td>\n",
              "      <td>4</td>\n",
              "      <td>20</td>\n",
              "      <td>32400</td>\n",
              "      <td>16</td>\n",
              "      <td>2</td>\n",
              "    </tr>\n",
              "    <tr>\n",
              "      <th>10</th>\n",
              "      <td>20</td>\n",
              "      <td>1.491210e+09</td>\n",
              "      <td>0</td>\n",
              "      <td>2017</td>\n",
              "      <td>4</td>\n",
              "      <td>3</td>\n",
              "      <td>32400</td>\n",
              "      <td>14</td>\n",
              "      <td>2</td>\n",
              "    </tr>\n",
              "    <tr>\n",
              "      <th>11</th>\n",
              "      <td>7</td>\n",
              "      <td>1.450793e+09</td>\n",
              "      <td>1</td>\n",
              "      <td>2015</td>\n",
              "      <td>12</td>\n",
              "      <td>22</td>\n",
              "      <td>50400</td>\n",
              "      <td>52</td>\n",
              "      <td>4</td>\n",
              "    </tr>\n",
              "    <tr>\n",
              "      <th>12</th>\n",
              "      <td>9</td>\n",
              "      <td>1.457827e+09</td>\n",
              "      <td>6</td>\n",
              "      <td>2016</td>\n",
              "      <td>3</td>\n",
              "      <td>13</td>\n",
              "      <td>0</td>\n",
              "      <td>10</td>\n",
              "      <td>1</td>\n",
              "    </tr>\n",
              "    <tr>\n",
              "      <th>13</th>\n",
              "      <td>62</td>\n",
              "      <td>1.494799e+09</td>\n",
              "      <td>6</td>\n",
              "      <td>2017</td>\n",
              "      <td>5</td>\n",
              "      <td>14</td>\n",
              "      <td>79200</td>\n",
              "      <td>19</td>\n",
              "      <td>2</td>\n",
              "    </tr>\n",
              "    <tr>\n",
              "      <th>14</th>\n",
              "      <td>15</td>\n",
              "      <td>1.481296e+09</td>\n",
              "      <td>4</td>\n",
              "      <td>2016</td>\n",
              "      <td>12</td>\n",
              "      <td>9</td>\n",
              "      <td>54000</td>\n",
              "      <td>49</td>\n",
              "      <td>4</td>\n",
              "    </tr>\n",
              "    <tr>\n",
              "      <th>15</th>\n",
              "      <td>40</td>\n",
              "      <td>1.492830e+09</td>\n",
              "      <td>5</td>\n",
              "      <td>2017</td>\n",
              "      <td>4</td>\n",
              "      <td>22</td>\n",
              "      <td>10800</td>\n",
              "      <td>16</td>\n",
              "      <td>2</td>\n",
              "    </tr>\n",
              "    <tr>\n",
              "      <th>16</th>\n",
              "      <td>5</td>\n",
              "      <td>1.493780e+09</td>\n",
              "      <td>2</td>\n",
              "      <td>2017</td>\n",
              "      <td>5</td>\n",
              "      <td>3</td>\n",
              "      <td>10800</td>\n",
              "      <td>18</td>\n",
              "      <td>2</td>\n",
              "    </tr>\n",
              "    <tr>\n",
              "      <th>17</th>\n",
              "      <td>39</td>\n",
              "      <td>1.494958e+09</td>\n",
              "      <td>1</td>\n",
              "      <td>2017</td>\n",
              "      <td>5</td>\n",
              "      <td>16</td>\n",
              "      <td>64800</td>\n",
              "      <td>20</td>\n",
              "      <td>2</td>\n",
              "    </tr>\n",
              "    <tr>\n",
              "      <th>18</th>\n",
              "      <td>17</td>\n",
              "      <td>1.497424e+09</td>\n",
              "      <td>2</td>\n",
              "      <td>2017</td>\n",
              "      <td>6</td>\n",
              "      <td>14</td>\n",
              "      <td>25200</td>\n",
              "      <td>24</td>\n",
              "      <td>2</td>\n",
              "    </tr>\n",
              "    <tr>\n",
              "      <th>19</th>\n",
              "      <td>24</td>\n",
              "      <td>1.484525e+09</td>\n",
              "      <td>0</td>\n",
              "      <td>2017</td>\n",
              "      <td>1</td>\n",
              "      <td>16</td>\n",
              "      <td>0</td>\n",
              "      <td>3</td>\n",
              "      <td>1</td>\n",
              "    </tr>\n",
              "  </tbody>\n",
              "</table>\n",
              "</div>\n",
              "      <button class=\"colab-df-convert\" onclick=\"convertToInteractive('df-b9451825-5abe-47a8-ace3-783b2b32e07b')\"\n",
              "              title=\"Convert this dataframe to an interactive table.\"\n",
              "              style=\"display:none;\">\n",
              "        \n",
              "  <svg xmlns=\"http://www.w3.org/2000/svg\" height=\"24px\"viewBox=\"0 0 24 24\"\n",
              "       width=\"24px\">\n",
              "    <path d=\"M0 0h24v24H0V0z\" fill=\"none\"/>\n",
              "    <path d=\"M18.56 5.44l.94 2.06.94-2.06 2.06-.94-2.06-.94-.94-2.06-.94 2.06-2.06.94zm-11 1L8.5 8.5l.94-2.06 2.06-.94-2.06-.94L8.5 2.5l-.94 2.06-2.06.94zm10 10l.94 2.06.94-2.06 2.06-.94-2.06-.94-.94-2.06-.94 2.06-2.06.94z\"/><path d=\"M17.41 7.96l-1.37-1.37c-.4-.4-.92-.59-1.43-.59-.52 0-1.04.2-1.43.59L10.3 9.45l-7.72 7.72c-.78.78-.78 2.05 0 2.83L4 21.41c.39.39.9.59 1.41.59.51 0 1.02-.2 1.41-.59l7.78-7.78 2.81-2.81c.8-.78.8-2.07 0-2.86zM5.41 20L4 18.59l7.72-7.72 1.47 1.35L5.41 20z\"/>\n",
              "  </svg>\n",
              "      </button>\n",
              "      \n",
              "  <style>\n",
              "    .colab-df-container {\n",
              "      display:flex;\n",
              "      flex-wrap:wrap;\n",
              "      gap: 12px;\n",
              "    }\n",
              "\n",
              "    .colab-df-convert {\n",
              "      background-color: #E8F0FE;\n",
              "      border: none;\n",
              "      border-radius: 50%;\n",
              "      cursor: pointer;\n",
              "      display: none;\n",
              "      fill: #1967D2;\n",
              "      height: 32px;\n",
              "      padding: 0 0 0 0;\n",
              "      width: 32px;\n",
              "    }\n",
              "\n",
              "    .colab-df-convert:hover {\n",
              "      background-color: #E2EBFA;\n",
              "      box-shadow: 0px 1px 2px rgba(60, 64, 67, 0.3), 0px 1px 3px 1px rgba(60, 64, 67, 0.15);\n",
              "      fill: #174EA6;\n",
              "    }\n",
              "\n",
              "    [theme=dark] .colab-df-convert {\n",
              "      background-color: #3B4455;\n",
              "      fill: #D2E3FC;\n",
              "    }\n",
              "\n",
              "    [theme=dark] .colab-df-convert:hover {\n",
              "      background-color: #434B5C;\n",
              "      box-shadow: 0px 1px 3px 1px rgba(0, 0, 0, 0.15);\n",
              "      filter: drop-shadow(0px 1px 2px rgba(0, 0, 0, 0.3));\n",
              "      fill: #FFFFFF;\n",
              "    }\n",
              "  </style>\n",
              "\n",
              "      <script>\n",
              "        const buttonEl =\n",
              "          document.querySelector('#df-b9451825-5abe-47a8-ace3-783b2b32e07b button.colab-df-convert');\n",
              "        buttonEl.style.display =\n",
              "          google.colab.kernel.accessAllowed ? 'block' : 'none';\n",
              "\n",
              "        async function convertToInteractive(key) {\n",
              "          const element = document.querySelector('#df-b9451825-5abe-47a8-ace3-783b2b32e07b');\n",
              "          const dataTable =\n",
              "            await google.colab.kernel.invokeFunction('convertToInteractive',\n",
              "                                                     [key], {});\n",
              "          if (!dataTable) return;\n",
              "\n",
              "          const docLinkHtml = 'Like what you see? Visit the ' +\n",
              "            '<a target=\"_blank\" href=https://colab.research.google.com/notebooks/data_table.ipynb>data table notebook</a>'\n",
              "            + ' to learn more about interactive tables.';\n",
              "          element.innerHTML = '';\n",
              "          dataTable['output_type'] = 'display_data';\n",
              "          await google.colab.output.renderOutput(dataTable, element);\n",
              "          const docLink = document.createElement('div');\n",
              "          docLink.innerHTML = docLinkHtml;\n",
              "          element.appendChild(docLink);\n",
              "        }\n",
              "      </script>\n",
              "    </div>\n",
              "  </div>\n",
              "  "
            ]
          },
          "metadata": {},
          "execution_count": 49
        }
      ]
    },
    {
      "cell_type": "code",
      "source": [
        "X_train_over[X_train_over['Day']> 31]"
      ],
      "metadata": {
        "colab": {
          "base_uri": "https://localhost:8080/",
          "height": 49
        },
        "id": "WF04eLMN7mfA",
        "outputId": "5b48d1cb-e3ab-4c92-e6b7-3d6b63ccf73d"
      },
      "execution_count": 50,
      "outputs": [
        {
          "output_type": "execute_result",
          "data": {
            "text/plain": [
              "Empty DataFrame\n",
              "Columns: [Vehicles, unix_time_column, Weekday, Year, Month, Day, Seconds, Week, Quarter]\n",
              "Index: []"
            ],
            "text/html": [
              "\n",
              "  <div id=\"df-6b21b13c-72a6-43a1-ae39-29ef113807b7\">\n",
              "    <div class=\"colab-df-container\">\n",
              "      <div>\n",
              "<style scoped>\n",
              "    .dataframe tbody tr th:only-of-type {\n",
              "        vertical-align: middle;\n",
              "    }\n",
              "\n",
              "    .dataframe tbody tr th {\n",
              "        vertical-align: top;\n",
              "    }\n",
              "\n",
              "    .dataframe thead th {\n",
              "        text-align: right;\n",
              "    }\n",
              "</style>\n",
              "<table border=\"1\" class=\"dataframe\">\n",
              "  <thead>\n",
              "    <tr style=\"text-align: right;\">\n",
              "      <th></th>\n",
              "      <th>Vehicles</th>\n",
              "      <th>unix_time_column</th>\n",
              "      <th>Weekday</th>\n",
              "      <th>Year</th>\n",
              "      <th>Month</th>\n",
              "      <th>Day</th>\n",
              "      <th>Seconds</th>\n",
              "      <th>Week</th>\n",
              "      <th>Quarter</th>\n",
              "    </tr>\n",
              "  </thead>\n",
              "  <tbody>\n",
              "  </tbody>\n",
              "</table>\n",
              "</div>\n",
              "      <button class=\"colab-df-convert\" onclick=\"convertToInteractive('df-6b21b13c-72a6-43a1-ae39-29ef113807b7')\"\n",
              "              title=\"Convert this dataframe to an interactive table.\"\n",
              "              style=\"display:none;\">\n",
              "        \n",
              "  <svg xmlns=\"http://www.w3.org/2000/svg\" height=\"24px\"viewBox=\"0 0 24 24\"\n",
              "       width=\"24px\">\n",
              "    <path d=\"M0 0h24v24H0V0z\" fill=\"none\"/>\n",
              "    <path d=\"M18.56 5.44l.94 2.06.94-2.06 2.06-.94-2.06-.94-.94-2.06-.94 2.06-2.06.94zm-11 1L8.5 8.5l.94-2.06 2.06-.94-2.06-.94L8.5 2.5l-.94 2.06-2.06.94zm10 10l.94 2.06.94-2.06 2.06-.94-2.06-.94-.94-2.06-.94 2.06-2.06.94z\"/><path d=\"M17.41 7.96l-1.37-1.37c-.4-.4-.92-.59-1.43-.59-.52 0-1.04.2-1.43.59L10.3 9.45l-7.72 7.72c-.78.78-.78 2.05 0 2.83L4 21.41c.39.39.9.59 1.41.59.51 0 1.02-.2 1.41-.59l7.78-7.78 2.81-2.81c.8-.78.8-2.07 0-2.86zM5.41 20L4 18.59l7.72-7.72 1.47 1.35L5.41 20z\"/>\n",
              "  </svg>\n",
              "      </button>\n",
              "      \n",
              "  <style>\n",
              "    .colab-df-container {\n",
              "      display:flex;\n",
              "      flex-wrap:wrap;\n",
              "      gap: 12px;\n",
              "    }\n",
              "\n",
              "    .colab-df-convert {\n",
              "      background-color: #E8F0FE;\n",
              "      border: none;\n",
              "      border-radius: 50%;\n",
              "      cursor: pointer;\n",
              "      display: none;\n",
              "      fill: #1967D2;\n",
              "      height: 32px;\n",
              "      padding: 0 0 0 0;\n",
              "      width: 32px;\n",
              "    }\n",
              "\n",
              "    .colab-df-convert:hover {\n",
              "      background-color: #E2EBFA;\n",
              "      box-shadow: 0px 1px 2px rgba(60, 64, 67, 0.3), 0px 1px 3px 1px rgba(60, 64, 67, 0.15);\n",
              "      fill: #174EA6;\n",
              "    }\n",
              "\n",
              "    [theme=dark] .colab-df-convert {\n",
              "      background-color: #3B4455;\n",
              "      fill: #D2E3FC;\n",
              "    }\n",
              "\n",
              "    [theme=dark] .colab-df-convert:hover {\n",
              "      background-color: #434B5C;\n",
              "      box-shadow: 0px 1px 3px 1px rgba(0, 0, 0, 0.15);\n",
              "      filter: drop-shadow(0px 1px 2px rgba(0, 0, 0, 0.3));\n",
              "      fill: #FFFFFF;\n",
              "    }\n",
              "  </style>\n",
              "\n",
              "      <script>\n",
              "        const buttonEl =\n",
              "          document.querySelector('#df-6b21b13c-72a6-43a1-ae39-29ef113807b7 button.colab-df-convert');\n",
              "        buttonEl.style.display =\n",
              "          google.colab.kernel.accessAllowed ? 'block' : 'none';\n",
              "\n",
              "        async function convertToInteractive(key) {\n",
              "          const element = document.querySelector('#df-6b21b13c-72a6-43a1-ae39-29ef113807b7');\n",
              "          const dataTable =\n",
              "            await google.colab.kernel.invokeFunction('convertToInteractive',\n",
              "                                                     [key], {});\n",
              "          if (!dataTable) return;\n",
              "\n",
              "          const docLinkHtml = 'Like what you see? Visit the ' +\n",
              "            '<a target=\"_blank\" href=https://colab.research.google.com/notebooks/data_table.ipynb>data table notebook</a>'\n",
              "            + ' to learn more about interactive tables.';\n",
              "          element.innerHTML = '';\n",
              "          dataTable['output_type'] = 'display_data';\n",
              "          await google.colab.output.renderOutput(dataTable, element);\n",
              "          const docLink = document.createElement('div');\n",
              "          docLink.innerHTML = docLinkHtml;\n",
              "          element.appendChild(docLink);\n",
              "        }\n",
              "      </script>\n",
              "    </div>\n",
              "  </div>\n",
              "  "
            ]
          },
          "metadata": {},
          "execution_count": 50
        }
      ]
    },
    {
      "cell_type": "code",
      "source": [
        "y_train_over"
      ],
      "metadata": {
        "colab": {
          "base_uri": "https://localhost:8080/"
        },
        "id": "Cmnoc911Rpqt",
        "outputId": "5e31f8c6-5c82-4e58-bc61-68f00f5784bc"
      },
      "execution_count": 51,
      "outputs": [
        {
          "output_type": "execute_result",
          "data": {
            "text/plain": [
              "array([[0, 0, 1, 0],\n",
              "       [0, 0, 1, 0],\n",
              "       [0, 0, 1, 0],\n",
              "       ...,\n",
              "       [0, 0, 0, 1],\n",
              "       [0, 0, 0, 1],\n",
              "       [0, 0, 0, 1]])"
            ]
          },
          "metadata": {},
          "execution_count": 51
        }
      ]
    },
    {
      "cell_type": "code",
      "source": [
        "#Initializing the neural network\n",
        "model_2 = Sequential()\n",
        "#Adding the input layer with 32 neurons and relu as activation function\n",
        "model_2.add(Dense(32,activation='relu',input_dim = 9))\n",
        "# Adding dropout with ratio of 0.2\n",
        "model_2.add(Dropout(0.2))\n",
        "model_2.add(Dense(16,activation='relu',input_dim = 9))\n",
        "# Adding dropout with ratio of 0.2\n",
        "model_2.add(Dropout(0.2))\n",
        "# Adding the first hidden layer with 16 neurons with relu as activation functions\n",
        "model_2.add(Dense(8,activation='softmax'))\n",
        "# Adding dropout with ratio of 0.1\n",
        "model_2.add(Dropout(0.1))\n",
        "# Adding the second hidden layer with 8 neurons with relu as activation functions\n",
        "model_2.add(Dense(4,activation='softmax'))"
      ],
      "metadata": {
        "id": "dN9IoT7UtN7n"
      },
      "execution_count": 53,
      "outputs": []
    },
    {
      "cell_type": "code",
      "source": [
        "# Summary of the model\n",
        "model_2.summary()"
      ],
      "metadata": {
        "colab": {
          "base_uri": "https://localhost:8080/"
        },
        "id": "nJVuYYTStUzn",
        "outputId": "94e1837d-8c30-4846-c03c-60c35e9e020f"
      },
      "execution_count": 54,
      "outputs": [
        {
          "output_type": "stream",
          "name": "stdout",
          "text": [
            "Model: \"sequential_3\"\n",
            "_________________________________________________________________\n",
            " Layer (type)                Output Shape              Param #   \n",
            "=================================================================\n",
            " dense_8 (Dense)             (None, 32)                320       \n",
            "                                                                 \n",
            " dropout_7 (Dropout)         (None, 32)                0         \n",
            "                                                                 \n",
            " dense_9 (Dense)             (None, 16)                528       \n",
            "                                                                 \n",
            " dropout_8 (Dropout)         (None, 16)                0         \n",
            "                                                                 \n",
            " dense_10 (Dense)            (None, 8)                 136       \n",
            "                                                                 \n",
            " dropout_9 (Dropout)         (None, 8)                 0         \n",
            "                                                                 \n",
            " dense_11 (Dense)            (None, 4)                 36        \n",
            "                                                                 \n",
            "=================================================================\n",
            "Total params: 1,020\n",
            "Trainable params: 1,020\n",
            "Non-trainable params: 0\n",
            "_________________________________________________________________\n"
          ]
        }
      ]
    },
    {
      "cell_type": "code",
      "source": [
        "#Compiling the ANN with Adam optimizer \n",
        "optimizer = tf.keras.optimizers.Adam(0.001)\n",
        "# Complining the model with binary cross entropy as loss function and accuracy as metrics\n",
        "model_2.compile(loss='binary_crossentropy',optimizer=optimizer,metrics=['mse'])"
      ],
      "metadata": {
        "id": "dV3EMQPFtXqp"
      },
      "execution_count": 55,
      "outputs": []
    },
    {
      "cell_type": "code",
      "source": [
        "#Fitting the ANN \n",
        "history_2 = model_2.fit(X_train_over,y_train_over,batch_size=32,epochs=15,verbose=1, validation_data=(X_val,y_val))"
      ],
      "metadata": {
        "colab": {
          "base_uri": "https://localhost:8080/"
        },
        "id": "zCAWntQXtYm6",
        "outputId": "2b3a70cd-5e4f-4bd2-f7e0-6b96a6929a03"
      },
      "execution_count": 56,
      "outputs": [
        {
          "output_type": "stream",
          "name": "stdout",
          "text": [
            "Epoch 1/15\n",
            "1461/1461 [==============================] - 11s 6ms/step - loss: 0.5973 - mse: 0.1902 - val_loss: 0.5654 - val_mse: 0.1890\n",
            "Epoch 2/15\n",
            "1461/1461 [==============================] - 7s 5ms/step - loss: 0.5647 - mse: 0.1879 - val_loss: 0.5609 - val_mse: 0.1868\n",
            "Epoch 3/15\n",
            "1461/1461 [==============================] - 6s 4ms/step - loss: 0.5635 - mse: 0.1876 - val_loss: 0.5632 - val_mse: 0.1879\n",
            "Epoch 4/15\n",
            "1461/1461 [==============================] - 7s 5ms/step - loss: 0.5633 - mse: 0.1876 - val_loss: 0.5624 - val_mse: 0.1875\n",
            "Epoch 5/15\n",
            "1461/1461 [==============================] - 6s 4ms/step - loss: 0.5630 - mse: 0.1876 - val_loss: 0.5613 - val_mse: 0.1870\n",
            "Epoch 6/15\n",
            "1461/1461 [==============================] - 8s 5ms/step - loss: 0.5629 - mse: 0.1876 - val_loss: 0.5627 - val_mse: 0.1877\n",
            "Epoch 7/15\n",
            "1461/1461 [==============================] - 6s 4ms/step - loss: 0.5628 - mse: 0.1875 - val_loss: 0.5615 - val_mse: 0.1871\n",
            "Epoch 8/15\n",
            "1461/1461 [==============================] - 8s 6ms/step - loss: 0.5627 - mse: 0.1876 - val_loss: 0.5623 - val_mse: 0.1875\n",
            "Epoch 9/15\n",
            "1461/1461 [==============================] - 6s 4ms/step - loss: 0.5626 - mse: 0.1875 - val_loss: 0.5612 - val_mse: 0.1869\n",
            "Epoch 10/15\n",
            "1461/1461 [==============================] - 7s 5ms/step - loss: 0.5626 - mse: 0.1876 - val_loss: 0.5631 - val_mse: 0.1879\n",
            "Epoch 11/15\n",
            "1461/1461 [==============================] - 6s 4ms/step - loss: 0.5626 - mse: 0.1876 - val_loss: 0.5630 - val_mse: 0.1878\n",
            "Epoch 12/15\n",
            "1461/1461 [==============================] - 7s 5ms/step - loss: 0.5625 - mse: 0.1876 - val_loss: 0.5622 - val_mse: 0.1875\n",
            "Epoch 13/15\n",
            "1461/1461 [==============================] - 6s 4ms/step - loss: 0.5625 - mse: 0.1875 - val_loss: 0.5627 - val_mse: 0.1877\n",
            "Epoch 14/15\n",
            "1461/1461 [==============================] - 8s 5ms/step - loss: 0.5625 - mse: 0.1875 - val_loss: 0.5609 - val_mse: 0.1868\n",
            "Epoch 15/15\n",
            "1461/1461 [==============================] - 6s 4ms/step - loss: 0.5625 - mse: 0.1876 - val_loss: 0.5629 - val_mse: 0.1878\n"
          ]
        }
      ]
    },
    {
      "cell_type": "code",
      "source": [
        "#Plotting Train Loss vs Validation Loss\n",
        "plt.plot(history_2.history['loss'])\n",
        "plt.plot(history_2.history['val_loss'])\n",
        "plt.title('model loss')\n",
        "plt.ylabel('Loss')\n",
        "plt.xlabel('Epoch')\n",
        "plt.legend(['train', 'validation'], loc='upper left')\n",
        "plt.show()"
      ],
      "metadata": {
        "id": "IQIPlpOKtf6A",
        "colab": {
          "base_uri": "https://localhost:8080/",
          "height": 295
        },
        "outputId": "ac51e901-8252-41be-d371-87981804a3b6"
      },
      "execution_count": 57,
      "outputs": [
        {
          "output_type": "display_data",
          "data": {
            "text/plain": [
              "<Figure size 432x288 with 1 Axes>"
            ],
            "image/png": "[encoded data removed]"
          },
          "metadata": {
            "needs_background": "light"
          }
        }
      ]
    },
    {
      "cell_type": "code",
      "source": [
        "results = model_2.evaluate(X_test, y_test)"
      ],
      "metadata": {
        "id": "Uu2uCF_k2WCU",
        "colab": {
          "base_uri": "https://localhost:8080/"
        },
        "outputId": "1196daee-76ab-472b-8383-bb657da03443"
      },
      "execution_count": 60,
      "outputs": [
        {
          "output_type": "stream",
          "name": "stdout",
          "text": [
            "301/301 [==============================] - 1s 4ms/step - loss: 0.5629 - mse: 0.1878\n"
          ]
        }
      ]
    },
    {
      "cell_type": "markdown",
      "source": [
        "### Model 3 (Undersampling)"
      ],
      "metadata": {
        "id": "7BYawapctOPP"
      }
    },
    {
      "cell_type": "code",
      "source": [
        "# fit random under sampler on the train data\n",
        "rus = RandomUnderSampler(random_state=42)\n",
        "X_train_un, y_train_un = rus.fit_resample(X_train, y_train_np)"
      ],
      "metadata": {
        "id": "qtaNobD24Fvt"
      },
      "execution_count": 61,
      "outputs": []
    },
    {
      "cell_type": "code",
      "source": [
        "print(\"Before Under Sampling, count of junctions 1-4': {}\".format(sum(y_train_np == 1)))\n",
        "print(\"After Under Sampling, count of junctions 1-4': {}\".format(sum(y_train_un == 1)))\n",
        "print(\"After Under Sampling, the shape of train_X: {}\".format(X_train_un.shape))\n",
        "print(\"After Under Sampling, the shape of train_y: {} \\n\".format(y_train_un.shape))"
      ],
      "metadata": {
        "id": "W8Em-C2R4I81",
        "colab": {
          "base_uri": "https://localhost:8080/"
        },
        "outputId": "d39303ca-3597-4854-df9d-40fea2a980e9"
      },
      "execution_count": 62,
      "outputs": [
        {
          "output_type": "stream",
          "name": "stdout",
          "text": [
            "Before Under Sampling, count of junctions 1-4': [11664 11655 11710  3467]\n",
            "After Under Sampling, count of junctions 1-4': [3467 3467 3467 3467]\n",
            "After Under Sampling, the shape of train_X: (13868, 9)\n",
            "After Under Sampling, the shape of train_y: (13868, 4) \n",
            "\n"
          ]
        }
      ]
    },
    {
      "cell_type": "code",
      "source": [
        "#Initializing the neural network\n",
        "model_3 = Sequential()\n",
        "#Adding the input layer with 32 neurons and relu as activation function\n",
        "model_3.add(Dense(32,activation='relu',input_dim = 9))\n",
        "# Adding dropout with ratio of 0.2\n",
        "model_3.add(Dropout(0.2))\n",
        "model_3.add(Dense(16,activation='relu',input_dim = 9))\n",
        "# Adding dropout with ratio of 0.2\n",
        "# Adding the first hidden layer with 16 neurons with relu as activation functions\n",
        "model_3.add(Dense(8,activation='softmax'))\n",
        "# Adding dropout with ratio of 0.1\n",
        "model_3.add(Dropout(0.1))\n",
        "# Adding the second hidden layer with 8 neurons with relu as activation functions\n",
        "model_3.add(Dense(4,activation='softmax'))"
      ],
      "metadata": {
        "id": "hm8Jaey-tyZF"
      },
      "execution_count": 63,
      "outputs": []
    },
    {
      "cell_type": "code",
      "source": [
        "# Summary of the model\n",
        "model_3.summary()"
      ],
      "metadata": {
        "id": "JuPx6jNcuPRv",
        "colab": {
          "base_uri": "https://localhost:8080/"
        },
        "outputId": "e53b7343-a72b-4b0b-f977-ccb33e0da3b9"
      },
      "execution_count": 64,
      "outputs": [
        {
          "output_type": "stream",
          "name": "stdout",
          "text": [
            "Model: \"sequential_4\"\n",
            "_________________________________________________________________\n",
            " Layer (type)                Output Shape              Param #   \n",
            "=================================================================\n",
            " dense_12 (Dense)            (None, 32)                320       \n",
            "                                                                 \n",
            " dropout_10 (Dropout)        (None, 32)                0         \n",
            "                                                                 \n",
            " dense_13 (Dense)            (None, 16)                528       \n",
            "                                                                 \n",
            " dense_14 (Dense)            (None, 8)                 136       \n",
            "                                                                 \n",
            " dropout_11 (Dropout)        (None, 8)                 0         \n",
            "                                                                 \n",
            " dense_15 (Dense)            (None, 4)                 36        \n",
            "                                                                 \n",
            "=================================================================\n",
            "Total params: 1,020\n",
            "Trainable params: 1,020\n",
            "Non-trainable params: 0\n",
            "_________________________________________________________________\n"
          ]
        }
      ]
    },
    {
      "cell_type": "code",
      "source": [
        "#Compiling the ANN with Adam optimizer \n",
        "optimizer = tf.keras.optimizers.Adam(0.01)\n",
        "# Complining the model with binary cross entropy as loss function and accuracy as metrics\n",
        "model_3.compile(loss='binary_crossentropy',optimizer=optimizer,metrics=['mse'])"
      ],
      "metadata": {
        "id": "-C4Gkhbj3fu8"
      },
      "execution_count": 65,
      "outputs": []
    },
    {
      "cell_type": "code",
      "source": [
        "#Fitting the ANN with batch_size = 32 and 100 epochs \n",
        "history_3 = model_3.fit(X_train_un,y_train_un,batch_size=32,epochs=15,verbose=1, validation_data=(X_val,y_val))"
      ],
      "metadata": {
        "id": "bmbtF8nk3hkl",
        "colab": {
          "base_uri": "https://localhost:8080/"
        },
        "outputId": "42b95dde-f767-4a52-99e2-6f68a280cc83"
      },
      "execution_count": 66,
      "outputs": [
        {
          "output_type": "stream",
          "name": "stdout",
          "text": [
            "Epoch 1/15\n",
            "434/434 [==============================] - 4s 7ms/step - loss: 0.5730 - mse: 0.1882 - val_loss: 0.5596 - val_mse: 0.1862\n",
            "Epoch 2/15\n",
            "434/434 [==============================] - 3s 7ms/step - loss: 0.5636 - mse: 0.1878 - val_loss: 0.5647 - val_mse: 0.1887\n",
            "Epoch 3/15\n",
            "434/434 [==============================] - 2s 5ms/step - loss: 0.5632 - mse: 0.1878 - val_loss: 0.5681 - val_mse: 0.1905\n",
            "Epoch 4/15\n",
            "434/434 [==============================] - 2s 5ms/step - loss: 0.5632 - mse: 0.1879 - val_loss: 0.5630 - val_mse: 0.1879\n",
            "Epoch 5/15\n",
            "434/434 [==============================] - 2s 5ms/step - loss: 0.5630 - mse: 0.1879 - val_loss: 0.5576 - val_mse: 0.1853\n",
            "Epoch 6/15\n",
            "434/434 [==============================] - 2s 5ms/step - loss: 0.5626 - mse: 0.1877 - val_loss: 0.5668 - val_mse: 0.1898\n",
            "Epoch 7/15\n",
            "434/434 [==============================] - 3s 8ms/step - loss: 0.5629 - mse: 0.1878 - val_loss: 0.5617 - val_mse: 0.1872\n",
            "Epoch 8/15\n",
            "434/434 [==============================] - 2s 5ms/step - loss: 0.5629 - mse: 0.1878 - val_loss: 0.5600 - val_mse: 0.1864\n",
            "Epoch 9/15\n",
            "434/434 [==============================] - 2s 5ms/step - loss: 0.5628 - mse: 0.1878 - val_loss: 0.5675 - val_mse: 0.1902\n",
            "Epoch 10/15\n",
            "434/434 [==============================] - 2s 5ms/step - loss: 0.5629 - mse: 0.1878 - val_loss: 0.5632 - val_mse: 0.1879\n",
            "Epoch 11/15\n",
            "434/434 [==============================] - 2s 6ms/step - loss: 0.5629 - mse: 0.1878 - val_loss: 0.5574 - val_mse: 0.1852\n",
            "Epoch 12/15\n",
            "434/434 [==============================] - 3s 8ms/step - loss: 0.5629 - mse: 0.1878 - val_loss: 0.5700 - val_mse: 0.1915\n",
            "Epoch 13/15\n",
            "434/434 [==============================] - 3s 6ms/step - loss: 0.5629 - mse: 0.1879 - val_loss: 0.5638 - val_mse: 0.1883\n",
            "Epoch 14/15\n",
            "434/434 [==============================] - 2s 5ms/step - loss: 0.5629 - mse: 0.1878 - val_loss: 0.5675 - val_mse: 0.1902\n",
            "Epoch 15/15\n",
            "434/434 [==============================] - 2s 5ms/step - loss: 0.5628 - mse: 0.1878 - val_loss: 0.5676 - val_mse: 0.1903\n"
          ]
        }
      ]
    },
    {
      "cell_type": "code",
      "source": [
        "#Plotting Train Loss vs Validation Loss\n",
        "plt.plot(history_3.history['loss'])\n",
        "plt.plot(history_3.history['val_loss'])\n",
        "plt.title('model loss')\n",
        "plt.ylabel('Loss')\n",
        "plt.xlabel('Epoch')\n",
        "plt.legend(['train', 'validation'], loc='upper left')\n",
        "plt.show()"
      ],
      "metadata": {
        "id": "FHvjFBaizHOh",
        "colab": {
          "base_uri": "https://localhost:8080/",
          "height": 295
        },
        "outputId": "65bd4606-bd8c-47b0-d3e9-1b7bf3143b92"
      },
      "execution_count": 67,
      "outputs": [
        {
          "output_type": "display_data",
          "data": {
            "text/plain": [
              "<Figure size 432x288 with 1 Axes>"
            ],
            "image/png": "[encoded data removed]"
          },
          "metadata": {
            "needs_background": "light"
          }
        }
      ]
    },
    {
      "cell_type": "code",
      "source": [
        "results = model_1.evaluate(X_val, y_val)"
      ],
      "metadata": {
        "id": "OF4kPSUm2aAg",
        "colab": {
          "base_uri": "https://localhost:8080/"
        },
        "outputId": "e827f302-1958-4ec9-a214-346ca6710753"
      },
      "execution_count": 68,
      "outputs": [
        {
          "output_type": "stream",
          "name": "stdout",
          "text": [
            "301/301 [==============================] - 1s 3ms/step - loss: 0.5363 - mse: 0.1792\n"
          ]
        }
      ]
    },
    {
      "cell_type": "markdown",
      "source": [
        "### Testing ROC and CM below"
      ],
      "metadata": {
        "id": "uJArfPsVuSSQ"
      }
    },
    {
      "cell_type": "code",
      "source": [
        "y_pred_test = model_3.predict(X_val)"
      ],
      "metadata": {
        "id": "Mu7CaMiKGfdp"
      },
      "execution_count": null,
      "outputs": []
    },
    {
      "cell_type": "code",
      "source": [
        "# y_pred=model_3.predict(X_val) \n",
        "# y_pred=np.argmax(y_pred, axis=1)\n",
        "# y_test=np.argmax(y_val, axis=1)\n",
        "# cm = confusion_matrix(y_test, y_pred)"
      ],
      "metadata": {
        "id": "M9C1KakOHDvh"
      },
      "execution_count": null,
      "outputs": []
    },
    {
      "cell_type": "code",
      "source": [
        "# cm = confusion_matrix(y_val, y_pred_test)"
      ],
      "metadata": {
        "id": "SF2kh0ZIGwJU"
      },
      "execution_count": null,
      "outputs": []
    },
    {
      "cell_type": "code",
      "source": [
        "# # Creating a dataframe for a array-formatted Confusion matrix,so it will be easy for plotting.\n",
        "# cm_df = pd.DataFrame(cm,\n",
        "#                      index = ['SETOSA','VERSICOLR','VIRGINICA'], \n",
        "#                      columns = ['SETOSA','VERSICOLR','VIRGINICA'])"
      ],
      "metadata": {
        "id": "DWG15NrAGsG1"
      },
      "execution_count": null,
      "outputs": []
    },
    {
      "cell_type": "code",
      "source": [
        "# from sklearn.metrics import roc_curve, roc_auc_score\n",
        "\n",
        "# # Predict probabilities for the validation set\n",
        "# y_pred = model_3.predict(X_val)\n",
        "\n",
        "# # Calculate ROC curve and AUC for each class\n",
        "# fpr = dict()\n",
        "# tpr = dict()\n",
        "# roc_auc = dict()\n",
        "# for i in range(4):\n",
        "#     fpr[i], tpr[i], _ = roc_curve(y_val.iloc[:, i], y_pred[:, i])\n",
        "#     roc_auc[i] = roc_auc_score(y_val.iloc[:, i], y_pred[:, i])\n",
        "\n",
        "# # Compute micro-average ROC curve and ROC area\n",
        "# fpr[\"micro\"], tpr[\"micro\"], _ = roc_curve(y_val.to_numpy().ravel(), y_pred.ravel())\n",
        "# roc_auc[\"micro\"] = roc_auc_score(y_val.to_numpy(), y_pred, average=\"micro\")\n",
        "\n",
        "# # Plot ROC curve for each class and micro-average ROC curve\n",
        "# import matplotlib.pyplot as plt\n",
        "# plt.figure()\n",
        "# lw = 2\n",
        "# colors = ['red', 'green', 'blue', 'purple']\n",
        "# for i, color in zip(range(4), colors):\n",
        "#     plt.plot(fpr[i], tpr[i], color=color, lw=lw,\n",
        "#              label='ROC curve (area = %0.2f) for label %d' % (roc_auc[i], i+1))\n",
        "# plt.plot(fpr[\"micro\"], tpr[\"micro\"], color='deeppink', lw=lw, linestyle='--',\n",
        "#          label='Micro-average ROC curve (area = %0.2f)' % roc_auc[\"micro\"])\n",
        "\n",
        "# plt.plot([0, 1], [0, 1], color='navy', lw=lw, linestyle='--')\n",
        "# plt.xlim([0.0, 1.0])\n",
        "# plt.ylim([0.0, 1.05])\n",
        "# plt.xlabel('False Positive Rate')\n",
        "# plt.ylabel('True Positive Rate')\n",
        "# plt.title('Receiver operating characteristic for multi-label classification')\n",
        "# plt.legend(loc=\"lower right\")\n",
        "# plt.show()"
      ],
      "metadata": {
        "id": "RMLPU1Jn0QKq"
      },
      "execution_count": null,
      "outputs": []
    },
    {
      "cell_type": "markdown",
      "source": [
        "- drop extraneous features\n",
        "- scale?\n",
        "- try not sampling?\n",
        "- leaky relu\n",
        "- regularization (l1, l2, dropout) add regularization term to loss function\n",
        "- lowring model complexity\n",
        "- increase train data?\n",
        "- early stopping\n",
        "- hyperperameter tuning\n",
        "\n",
        "\n",
        "- CM?\n",
        "- HOW TO MAKE AOC"
      ],
      "metadata": {
        "id": "_Ea8SgyZU3Cx"
      }
    },
    {
      "cell_type": "code",
      "source": [
        "# #Initializing the neural network\n",
        "# model_3 = Sequential()\n",
        "# #Adding the input layer with 32 neurons and relu as activation function\n",
        "# model_3.add(Dense(128,activation='relu',input_dim = 9))\n",
        "# # Adding dropout with ratio of 0.2\n",
        "# model_3.add(Dropout(0.2))\n",
        "# # Adding the first hidden layer with 16 neurons with relu as activation functions\n",
        "# model_3.add(Dense(64,activation='ELU'))\n",
        "# # Adding dropout with ratio of 0.1\n",
        "# model_3.add(Dropout(0.1))\n",
        "# model_3.add(Dense(32,activation='sigmoid'))\n",
        "# # Adding dropout with ratio of 0.1\n",
        "# model_3.add(Dropout(0.1))\n",
        "# model_3.add(Dense(16,activation='ELU'))\n",
        "# # Adding dropout with ratio of 0.1\n",
        "# model_3.add(Dropout(0.1))\n",
        "# # Adding the second hidden layer with 8 neurons with relu as activation functions\n",
        "# model_3.add(Dense(4,activation='sigmoid'))"
      ],
      "metadata": {
        "id": "KBR6yuAjt6CO"
      },
      "execution_count": null,
      "outputs": []
    }
  ]
}